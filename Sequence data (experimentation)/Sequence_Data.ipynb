{
 "cells": [
  {
   "cell_type": "markdown",
   "metadata": {
    "id": "-FV8yyZVyKHQ"
   },
   "source": [
    "# Compare the performance of an RNN, an LSTM, a GRU and a Transformer for classifying sequential MNIST digits"
   ]
  },
  {
   "cell_type": "code",
   "execution_count": 1,
   "metadata": {
    "colab": {
     "base_uri": "https://localhost:8080/"
    },
    "executionInfo": {
     "elapsed": 2120,
     "status": "ok",
     "timestamp": 1614786727510,
     "user": {
      "displayName": "Guy-Hermann Adiko",
      "photoUrl": "https://lh3.googleusercontent.com/a-/AOh14Gi0Rl7zpprx4ZnwvHMoD4zBxXTFAhkd0FQxuPl_Wg=s64",
      "userId": "13444144507395205469"
     },
     "user_tz": 300
    },
    "id": "-r9wPpxoyKHV",
    "outputId": "8a8d378b-479d-4fbe-e2d3-df2f4ccc083d"
   },
   "outputs": [
    {
     "name": "stdout",
     "output_type": "stream",
     "text": [
      "The version of your Tensorflow is 2.4.1\n",
      "The version of your Keras is 2.4.0\n"
     ]
    }
   ],
   "source": [
    "# Python ≥ 3.8 is required\n",
    "import sys\n",
    "assert sys.version_info >= (3,8)\n",
    "import numpy as np\n",
    "import matplotlib as mpl\n",
    "import matplotlib.pyplot as plt\n",
    "import time\n",
    "import pandas as pd\n",
    "\n",
    "# Scikit-Learn ≥ 0.23 is required\n",
    "import sklearn\n",
    "assert sklearn.__version__ >= \"0.23\"\n",
    "\n",
    "# TensorFlow ≥ 2.4 and Keras ≥ 2.4 is required\n",
    "import tensorflow as tf\n",
    "from tensorflow import keras\n",
    "assert tf.__version__ >= \"2.4\"\n",
    "assert keras.__version__ >= \"2.4\"\n",
    "\n",
    "print(\"The version of your Tensorflow is \"+ tf.__version__)\n",
    "print(\"The version of your Keras is \"+ keras.__version__)"
   ]
  },
  {
   "cell_type": "code",
   "execution_count": 2,
   "metadata": {},
   "outputs": [],
   "source": [
    "# Enable memory growth\n",
    "\n",
    "physical_devices = tf.config.list_physical_devices('GPU')\n",
    "tf.config.experimental.set_memory_growth(physical_devices[0], enable=True)"
   ]
  },
  {
   "cell_type": "code",
   "execution_count": 3,
   "metadata": {
    "colab": {
     "base_uri": "https://localhost:8080/"
    },
    "executionInfo": {
     "elapsed": 1158,
     "status": "ok",
     "timestamp": 1614786730598,
     "user": {
      "displayName": "Guy-Hermann Adiko",
      "photoUrl": "https://lh3.googleusercontent.com/a-/AOh14Gi0Rl7zpprx4ZnwvHMoD4zBxXTFAhkd0FQxuPl_Wg=s64",
      "userId": "13444144507395205469"
     },
     "user_tz": 300
    },
    "id": "mYTuO6khyKHW",
    "outputId": "5d33a19f-a607-4531-a80f-3545b73c1ebc"
   },
   "outputs": [
    {
     "name": "stdout",
     "output_type": "stream",
     "text": [
      "Num GPUs Available:  1\n"
     ]
    }
   ],
   "source": [
    "# Number of GPU used\n",
    "\n",
    "print(\"Num GPUs Available: \", len(tf.config.experimental.list_physical_devices(\"GPU\")))"
   ]
  },
  {
   "cell_type": "code",
   "execution_count": 4,
   "metadata": {
    "colab": {
     "base_uri": "https://localhost:8080/"
    },
    "executionInfo": {
     "elapsed": 930,
     "status": "ok",
     "timestamp": 1614786736960,
     "user": {
      "displayName": "Guy-Hermann Adiko",
      "photoUrl": "https://lh3.googleusercontent.com/a-/AOh14Gi0Rl7zpprx4ZnwvHMoD4zBxXTFAhkd0FQxuPl_Wg=s64",
      "userId": "13444144507395205469"
     },
     "user_tz": 300
    },
    "id": "uYgj01mayKHX",
    "outputId": "439176de-b624-45b8-f8b8-04df87daa61c"
   },
   "outputs": [],
   "source": [
    "# Loading and scaling the MNIST dataset\n",
    "\n",
    "mnist = keras.datasets.mnist\n",
    "(X_train_full, y_train_full), (X_test, y_test) = mnist.load_data()\n",
    "\n",
    "X_valid, X_train = X_train_full[:5000] / 255., X_train_full[5000:] / 255.\n",
    "y_valid, y_train = y_train_full[:5000], y_train_full[5000:]\n",
    "X_test = X_test / 255.\n",
    "\n",
    "sample, sample_label = X_train[0], y_train[0]"
   ]
  },
  {
   "cell_type": "markdown",
   "metadata": {
    "id": "zHqtwP4OyKHX"
   },
   "source": [
    "# Building Simple RNN, LSTM and GRU model"
   ]
  },
  {
   "cell_type": "code",
   "execution_count": 5,
   "metadata": {
    "executionInfo": {
     "elapsed": 283,
     "status": "ok",
     "timestamp": 1614786748762,
     "user": {
      "displayName": "Guy-Hermann Adiko",
      "photoUrl": "https://lh3.googleusercontent.com/a-/AOh14Gi0Rl7zpprx4ZnwvHMoD4zBxXTFAhkd0FQxuPl_Wg=s64",
      "userId": "13444144507395205469"
     },
     "user_tz": 300
    },
    "id": "N_tiwQTLyKHX"
   },
   "outputs": [],
   "source": [
    "def build_recurrent_model(recurrent_type ='SimpleRNN', n_recurrent_units = 1, n_recurrent_layers = 1):\n",
    "    \n",
    "    np.random.seed(5)\n",
    "    tf.random.set_seed(5)\n",
    "\n",
    "    # build the model\n",
    "    model = tf.keras.Sequential()\n",
    "    \n",
    "    for i in range(n_recurrent_layers):\n",
    "        return_sequences = (i < n_recurrent_layers-1)\n",
    "        if recurrent_type == 'SimpleRNN':\n",
    "            recurrent_layer = keras.layers.SimpleRNN(\n",
    "                units=n_recurrent_units,\n",
    "                return_sequences=return_sequences,\n",
    "                input_shape = X_train.shape[1:])\n",
    "        elif recurrent_type == 'LSTM':\n",
    "            recurrent_layer = keras.layers.LSTM(\n",
    "                units=n_recurrent_units,\n",
    "                return_sequences=return_sequences,\n",
    "                input_shape = X_train.shape[1:])\n",
    "        elif recurrent_type == 'GRU':\n",
    "            recurrent_layer = keras.layers.GRU(\n",
    "                units=n_recurrent_units,\n",
    "                return_sequences=return_sequences,\n",
    "                input_shape = X_train.shape[1:])\n",
    "            \n",
    "        model.add(recurrent_layer)\n",
    "\n",
    "    model.add(tf.keras.layers.Dense(10, activation='softmax'))\n",
    "    \n",
    "    return model"
   ]
  },
  {
   "cell_type": "markdown",
   "metadata": {
    "id": "I99vDNzZyKHY"
   },
   "source": [
    "### Experience #1: Implementing a single layer with 10 neuron"
   ]
  },
  {
   "cell_type": "code",
   "execution_count": 6,
   "metadata": {
    "executionInfo": {
     "elapsed": 5380,
     "status": "ok",
     "timestamp": 1614786762820,
     "user": {
      "displayName": "Guy-Hermann Adiko",
      "photoUrl": "https://lh3.googleusercontent.com/a-/AOh14Gi0Rl7zpprx4ZnwvHMoD4zBxXTFAhkd0FQxuPl_Wg=s64",
      "userId": "13444144507395205469"
     },
     "user_tz": 300
    },
    "id": "tJWdAhhPyKHY",
    "scrolled": true
   },
   "outputs": [],
   "source": [
    "RNN_Model = build_recurrent_model(recurrent_type ='SimpleRNN', n_recurrent_units = 10, n_recurrent_layers = 1)\n",
    "LSTM_Model = build_recurrent_model(recurrent_type ='LSTM', n_recurrent_units = 10, n_recurrent_layers = 1)\n",
    "GRU_Model = build_recurrent_model(recurrent_type ='GRU', n_recurrent_units = 10, n_recurrent_layers = 1)"
   ]
  },
  {
   "cell_type": "code",
   "execution_count": 7,
   "metadata": {
    "colab": {
     "base_uri": "https://localhost:8080/"
    },
    "executionInfo": {
     "elapsed": 262,
     "status": "ok",
     "timestamp": 1614786765792,
     "user": {
      "displayName": "Guy-Hermann Adiko",
      "photoUrl": "https://lh3.googleusercontent.com/a-/AOh14Gi0Rl7zpprx4ZnwvHMoD4zBxXTFAhkd0FQxuPl_Wg=s64",
      "userId": "13444144507395205469"
     },
     "user_tz": 300
    },
    "id": "ZVKnFEpdyKHY",
    "outputId": "ab39556b-0b17-46b6-d89f-b0d7f49e14a6",
    "scrolled": true
   },
   "outputs": [
    {
     "name": "stdout",
     "output_type": "stream",
     "text": [
      "Model: \"sequential\"\n",
      "_________________________________________________________________\n",
      "Layer (type)                 Output Shape              Param #   \n",
      "=================================================================\n",
      "simple_rnn (SimpleRNN)       (None, 10)                390       \n",
      "_________________________________________________________________\n",
      "dense (Dense)                (None, 10)                110       \n",
      "=================================================================\n",
      "Total params: 500\n",
      "Trainable params: 500\n",
      "Non-trainable params: 0\n",
      "_________________________________________________________________\n",
      "None\n",
      "\n",
      "Model: \"sequential_1\"\n",
      "_________________________________________________________________\n",
      "Layer (type)                 Output Shape              Param #   \n",
      "=================================================================\n",
      "lstm (LSTM)                  (None, 10)                1560      \n",
      "_________________________________________________________________\n",
      "dense_1 (Dense)              (None, 10)                110       \n",
      "=================================================================\n",
      "Total params: 1,670\n",
      "Trainable params: 1,670\n",
      "Non-trainable params: 0\n",
      "_________________________________________________________________\n",
      "None\n",
      "\n",
      "Model: \"sequential_2\"\n",
      "_________________________________________________________________\n",
      "Layer (type)                 Output Shape              Param #   \n",
      "=================================================================\n",
      "gru (GRU)                    (None, 10)                1200      \n",
      "_________________________________________________________________\n",
      "dense_2 (Dense)              (None, 10)                110       \n",
      "=================================================================\n",
      "Total params: 1,310\n",
      "Trainable params: 1,310\n",
      "Non-trainable params: 0\n",
      "_________________________________________________________________\n",
      "None\n"
     ]
    }
   ],
   "source": [
    "print(RNN_Model.summary())\n",
    "print()\n",
    "print(LSTM_Model.summary())\n",
    "print()\n",
    "print(GRU_Model.summary())"
   ]
  },
  {
   "cell_type": "markdown",
   "metadata": {
    "id": "0TdaLxzsyKHZ"
   },
   "source": [
    "---"
   ]
  },
  {
   "cell_type": "code",
   "execution_count": 8,
   "metadata": {
    "colab": {
     "base_uri": "https://localhost:8080/"
    },
    "executionInfo": {
     "elapsed": 324451,
     "status": "ok",
     "timestamp": 1614787093920,
     "user": {
      "displayName": "Guy-Hermann Adiko",
      "photoUrl": "https://lh3.googleusercontent.com/a-/AOh14Gi0Rl7zpprx4ZnwvHMoD4zBxXTFAhkd0FQxuPl_Wg=s64",
      "userId": "13444144507395205469"
     },
     "user_tz": 300
    },
    "id": "0Bn86mbOyKHZ",
    "outputId": "7191d94b-cd0a-4cd9-8d39-4c3878bf65fd",
    "scrolled": true
   },
   "outputs": [
    {
     "name": "stdout",
     "output_type": "stream",
     "text": [
      "Epoch 1/20\n",
      "430/430 [==============================] - 22s 48ms/step - loss: 2.1014 - accuracy: 0.2147 - val_loss: 1.5499 - val_accuracy: 0.4558\n",
      "Epoch 2/20\n",
      "430/430 [==============================] - 19s 43ms/step - loss: 1.4965 - accuracy: 0.4548 - val_loss: 1.3108 - val_accuracy: 0.5254\n",
      "Epoch 3/20\n",
      "430/430 [==============================] - 17s 40ms/step - loss: 1.3037 - accuracy: 0.5217 - val_loss: 1.1554 - val_accuracy: 0.5984\n",
      "Epoch 4/20\n",
      "430/430 [==============================] - 17s 40ms/step - loss: 1.1688 - accuracy: 0.5847 - val_loss: 1.0529 - val_accuracy: 0.6340\n",
      "Epoch 5/20\n",
      "430/430 [==============================] - 19s 45ms/step - loss: 1.0713 - accuracy: 0.6220 - val_loss: 0.9951 - val_accuracy: 0.6584\n",
      "Epoch 6/20\n",
      "430/430 [==============================] - 18s 41ms/step - loss: 1.0213 - accuracy: 0.6414 - val_loss: 0.9728 - val_accuracy: 0.6622\n",
      "Epoch 7/20\n",
      "430/430 [==============================] - 19s 43ms/step - loss: 0.9827 - accuracy: 0.6577 - val_loss: 0.9326 - val_accuracy: 0.6856\n",
      "Epoch 8/20\n",
      "430/430 [==============================] - 38s 89ms/step - loss: 0.9633 - accuracy: 0.6702 - val_loss: 0.9055 - val_accuracy: 0.6968\n",
      "Epoch 9/20\n",
      "430/430 [==============================] - 53s 122ms/step - loss: 0.9255 - accuracy: 0.6898 - val_loss: 0.8824 - val_accuracy: 0.7054\n",
      "Epoch 10/20\n",
      "430/430 [==============================] - 47s 110ms/step - loss: 0.9108 - accuracy: 0.6943 - val_loss: 0.8528 - val_accuracy: 0.7176\n",
      "Epoch 11/20\n",
      "430/430 [==============================] - 18s 42ms/step - loss: 0.8980 - accuracy: 0.7034 - val_loss: 0.8343 - val_accuracy: 0.7240\n",
      "Epoch 12/20\n",
      "430/430 [==============================] - 19s 45ms/step - loss: 0.8741 - accuracy: 0.7152 - val_loss: 0.8349 - val_accuracy: 0.7296\n",
      "Epoch 13/20\n",
      "430/430 [==============================] - 20s 45ms/step - loss: 0.8753 - accuracy: 0.7158 - val_loss: 0.8175 - val_accuracy: 0.7348\n",
      "Epoch 14/20\n",
      "430/430 [==============================] - 19s 43ms/step - loss: 0.8534 - accuracy: 0.7230 - val_loss: 0.7903 - val_accuracy: 0.7420\n",
      "Epoch 15/20\n",
      "430/430 [==============================] - 19s 44ms/step - loss: 0.8340 - accuracy: 0.7286 - val_loss: 0.7774 - val_accuracy: 0.7468\n",
      "Epoch 16/20\n",
      "430/430 [==============================] - 18s 42ms/step - loss: 0.8300 - accuracy: 0.7323 - val_loss: 0.7775 - val_accuracy: 0.7480\n",
      "Epoch 17/20\n",
      "430/430 [==============================] - 19s 43ms/step - loss: 0.8134 - accuracy: 0.7375 - val_loss: 0.7483 - val_accuracy: 0.7664\n",
      "Epoch 18/20\n",
      "430/430 [==============================] - 19s 43ms/step - loss: 0.7904 - accuracy: 0.7471 - val_loss: 0.7353 - val_accuracy: 0.7676\n",
      "Epoch 19/20\n",
      "430/430 [==============================] - 19s 44ms/step - loss: 0.7641 - accuracy: 0.7556 - val_loss: 0.7398 - val_accuracy: 0.7612\n",
      "Epoch 20/20\n",
      "430/430 [==============================] - 19s 44ms/step - loss: 0.7598 - accuracy: 0.7569 - val_loss: 0.7280 - val_accuracy: 0.7738\n",
      "Temps total d'execution = 456.2614805698395 s\n"
     ]
    }
   ],
   "source": [
    "# Training Simple RNN on 20 epochs\n",
    "\n",
    "start = time.time()\n",
    "optimizer = keras.optimizers.Adam(lr=0.001)\n",
    "RNN_Model.compile(loss=\"sparse_categorical_crossentropy\", optimizer=optimizer, metrics=['accuracy'])\n",
    "RNN_history = RNN_Model.fit(X_train, y_train, epochs=20, validation_data=(X_valid, y_valid), batch_size = 128)\n",
    "end = time.time()\n",
    "print(\"Temps total d'execution = \"+str(end-start) +\" \"+ \"s\")"
   ]
  },
  {
   "cell_type": "code",
   "execution_count": 9,
   "metadata": {
    "executionInfo": {
     "elapsed": 410,
     "status": "ok",
     "timestamp": 1614787099131,
     "user": {
      "displayName": "Guy-Hermann Adiko",
      "photoUrl": "https://lh3.googleusercontent.com/a-/AOh14Gi0Rl7zpprx4ZnwvHMoD4zBxXTFAhkd0FQxuPl_Wg=s64",
      "userId": "13444144507395205469"
     },
     "user_tz": 300
    },
    "id": "Q47GlMfRyKHZ"
   },
   "outputs": [],
   "source": [
    "# Plotting Results\n",
    "\n",
    "def plot_learning_curves(train, val, y_label =\"Loss\", Title=\"Losses\",\n",
    "                         train_label = \"Simple RNN Train loss\", val_label = \"Simple RNN Validation loss\"):\n",
    "    \n",
    "    plt.plot(np.arange(len(train)), train, \"b.-\", label=train_label)\n",
    "    plt.plot(np.arange(len(val)), val, \"r.-\", label=val_label)\n",
    "    plt.gca().xaxis.set_major_locator(mpl.ticker.MaxNLocator(integer=True))\n",
    "    plt.legend(fontsize=14)\n",
    "    plt.xlabel(\"Epochs\")\n",
    "    plt.ylabel(y_label)\n",
    "    plt.title(Title)\n",
    "    plt.grid(True)"
   ]
  },
  {
   "cell_type": "code",
   "execution_count": 10,
   "metadata": {
    "colab": {
     "base_uri": "https://localhost:8080/",
     "height": 573
    },
    "executionInfo": {
     "elapsed": 529,
     "status": "ok",
     "timestamp": 1614787102588,
     "user": {
      "displayName": "Guy-Hermann Adiko",
      "photoUrl": "https://lh3.googleusercontent.com/a-/AOh14Gi0Rl7zpprx4ZnwvHMoD4zBxXTFAhkd0FQxuPl_Wg=s64",
      "userId": "13444144507395205469"
     },
     "user_tz": 300
    },
    "id": "Qrb9btomyKHZ",
    "outputId": "9f8e7be5-4c92-4afe-a62f-45dbb0aa34a7"
   },
   "outputs": [
    {
     "data": {
      "image/png": "[encoded data removed]",
      "text/plain": [
       "<Figure size 432x288 with 1 Axes>"
      ]
     },
     "metadata": {
      "needs_background": "light"
     },
     "output_type": "display_data"
    },
    {
     "data": {
      "image/png": "[encoded data removed]",
      "text/plain": [
       "<Figure size 432x288 with 1 Axes>"
      ]
     },
     "metadata": {
      "needs_background": "light"
     },
     "output_type": "display_data"
    }
   ],
   "source": [
    "plot_learning_curves(RNN_history.history[\"loss\"], RNN_history.history[\"val_loss\"])\n",
    "plt.show()\n",
    "plot_learning_curves(RNN_history.history[\"accuracy\"], RNN_history.history[\"val_accuracy\"], y_label =\"Accuracy\", Title=\"Accuracy\",\n",
    "                         train_label = \"Simple RNN Train Accuracy\", val_label = \"Simple RNN Validation Accuracy\")"
   ]
  },
  {
   "cell_type": "code",
   "execution_count": 11,
   "metadata": {
    "colab": {
     "base_uri": "https://localhost:8080/"
    },
    "executionInfo": {
     "elapsed": 1369,
     "status": "ok",
     "timestamp": 1614787269036,
     "user": {
      "displayName": "Guy-Hermann Adiko",
      "photoUrl": "https://lh3.googleusercontent.com/a-/AOh14Gi0Rl7zpprx4ZnwvHMoD4zBxXTFAhkd0FQxuPl_Wg=s64",
      "userId": "13444144507395205469"
     },
     "user_tz": 300
    },
    "id": "fwqW_tvuyKHa",
    "outputId": "b053bee5-6489-474c-bd1d-5d4758c315af"
   },
   "outputs": [
    {
     "name": "stdout",
     "output_type": "stream",
     "text": [
      "313/313 [==============================] - 2s 8ms/step - loss: 0.7369 - accuracy: 0.7702\n",
      "Summary: Loss over the test dataset: 0.74, Accuracy: 0.77\n"
     ]
    }
   ],
   "source": [
    "# Simple RNN Evaluation\n",
    "\n",
    "rnn_evaluation = RNN_Model.evaluate(X_test, y_test)\n",
    "print('Summary: Loss over the test dataset: %.2f, Accuracy: %.2f' % (rnn_evaluation[0], rnn_evaluation[1]))"
   ]
  },
  {
   "cell_type": "code",
   "execution_count": 12,
   "metadata": {
    "colab": {
     "base_uri": "https://localhost:8080/",
     "height": 282
    },
    "executionInfo": {
     "elapsed": 330,
     "status": "ok",
     "timestamp": 1614787271660,
     "user": {
      "displayName": "Guy-Hermann Adiko",
      "photoUrl": "https://lh3.googleusercontent.com/a-/AOh14Gi0Rl7zpprx4ZnwvHMoD4zBxXTFAhkd0FQxuPl_Wg=s64",
      "userId": "13444144507395205469"
     },
     "user_tz": 300
    },
    "id": "vojfCy9YyKHa",
    "outputId": "05a99100-3847-4245-afb9-9ff7fb74319a"
   },
   "outputs": [
    {
     "name": "stdout",
     "output_type": "stream",
     "text": [
      "Predicted result is: [3], target result is: 7\n"
     ]
    },
    {
     "data": {
      "image/png": "[encoded data removed]",
      "text/plain": [
       "<Figure size 432x288 with 1 Axes>"
      ]
     },
     "metadata": {
      "needs_background": "light"
     },
     "output_type": "display_data"
    }
   ],
   "source": [
    "with tf.device(\"GPU:0\"):\n",
    "    RNN_Model.set_weights(RNN_Model.get_weights())\n",
    "    result = tf.argmax(RNN_Model.predict_on_batch(tf.expand_dims(sample, 0)), axis=1)\n",
    "    print(\n",
    "        \"Predicted result is: %s, target result is: %s\" % (result.numpy(), sample_label)\n",
    "    )\n",
    "    plt.imshow(sample, cmap=\"binary\")"
   ]
  },
  {
   "cell_type": "markdown",
   "metadata": {
    "id": "6Aiiom0ayKHa"
   },
   "source": [
    "---"
   ]
  },
  {
   "cell_type": "code",
   "execution_count": 13,
   "metadata": {
    "colab": {
     "base_uri": "https://localhost:8080/"
    },
    "executionInfo": {
     "elapsed": 63127,
     "status": "ok",
     "timestamp": 1614787340917,
     "user": {
      "displayName": "Guy-Hermann Adiko",
      "photoUrl": "https://lh3.googleusercontent.com/a-/AOh14Gi0Rl7zpprx4ZnwvHMoD4zBxXTFAhkd0FQxuPl_Wg=s64",
      "userId": "13444144507395205469"
     },
     "user_tz": 300
    },
    "id": "99N-Fi0ryKHa",
    "outputId": "db9c5b59-e13c-4e49-8ca9-c6febbdd4c96",
    "scrolled": true
   },
   "outputs": [
    {
     "name": "stdout",
     "output_type": "stream",
     "text": [
      "Epoch 1/20\n",
      "430/430 [==============================] - 7s 10ms/step - loss: 1.6057 - accuracy: 0.4358 - val_loss: 0.7622 - val_accuracy: 0.7546\n",
      "Epoch 2/20\n",
      "430/430 [==============================] - 4s 9ms/step - loss: 0.7376 - accuracy: 0.7621 - val_loss: 0.5516 - val_accuracy: 0.8286\n",
      "Epoch 3/20\n",
      "430/430 [==============================] - 4s 9ms/step - loss: 0.5720 - accuracy: 0.8172 - val_loss: 0.4548 - val_accuracy: 0.8612\n",
      "Epoch 4/20\n",
      "430/430 [==============================] - 4s 9ms/step - loss: 0.4820 - accuracy: 0.8495 - val_loss: 0.3947 - val_accuracy: 0.8808\n",
      "Epoch 5/20\n",
      "430/430 [==============================] - 4s 9ms/step - loss: 0.4225 - accuracy: 0.8688 - val_loss: 0.3544 - val_accuracy: 0.8914\n",
      "Epoch 6/20\n",
      "430/430 [==============================] - 4s 9ms/step - loss: 0.3849 - accuracy: 0.8827 - val_loss: 0.3291 - val_accuracy: 0.8970\n",
      "Epoch 7/20\n",
      "430/430 [==============================] - 4s 10ms/step - loss: 0.3525 - accuracy: 0.8928 - val_loss: 0.3030 - val_accuracy: 0.9126\n",
      "Epoch 8/20\n",
      "430/430 [==============================] - 4s 10ms/step - loss: 0.3344 - accuracy: 0.9007 - val_loss: 0.2876 - val_accuracy: 0.9158\n",
      "Epoch 9/20\n",
      "430/430 [==============================] - 4s 10ms/step - loss: 0.3047 - accuracy: 0.9100 - val_loss: 0.2663 - val_accuracy: 0.9220\n",
      "Epoch 10/20\n",
      "430/430 [==============================] - 4s 10ms/step - loss: 0.2936 - accuracy: 0.9127 - val_loss: 0.2503 - val_accuracy: 0.9272\n",
      "Epoch 11/20\n",
      "430/430 [==============================] - 4s 10ms/step - loss: 0.2761 - accuracy: 0.9193 - val_loss: 0.2432 - val_accuracy: 0.9290\n",
      "Epoch 12/20\n",
      "430/430 [==============================] - 4s 10ms/step - loss: 0.2653 - accuracy: 0.9231 - val_loss: 0.2293 - val_accuracy: 0.9314\n",
      "Epoch 13/20\n",
      "430/430 [==============================] - 4s 10ms/step - loss: 0.2563 - accuracy: 0.9255 - val_loss: 0.2159 - val_accuracy: 0.9378\n",
      "Epoch 14/20\n",
      "430/430 [==============================] - 4s 10ms/step - loss: 0.2386 - accuracy: 0.9316 - val_loss: 0.2064 - val_accuracy: 0.9406\n",
      "Epoch 15/20\n",
      "430/430 [==============================] - 4s 10ms/step - loss: 0.2312 - accuracy: 0.9341 - val_loss: 0.1988 - val_accuracy: 0.9418\n",
      "Epoch 16/20\n",
      "430/430 [==============================] - 4s 10ms/step - loss: 0.2202 - accuracy: 0.9358 - val_loss: 0.1928 - val_accuracy: 0.9450\n",
      "Epoch 17/20\n",
      "430/430 [==============================] - 4s 10ms/step - loss: 0.2165 - accuracy: 0.9375 - val_loss: 0.1902 - val_accuracy: 0.9474\n",
      "Epoch 18/20\n",
      "430/430 [==============================] - 4s 10ms/step - loss: 0.2076 - accuracy: 0.9412 - val_loss: 0.1827 - val_accuracy: 0.9494\n",
      "Epoch 19/20\n",
      "430/430 [==============================] - 4s 10ms/step - loss: 0.1973 - accuracy: 0.9425 - val_loss: 0.1805 - val_accuracy: 0.9478\n",
      "Epoch 20/20\n",
      "430/430 [==============================] - 4s 10ms/step - loss: 0.1998 - accuracy: 0.9431 - val_loss: 0.1828 - val_accuracy: 0.9470\n",
      "Temps total d'execution = 86.1193995475769 s\n"
     ]
    }
   ],
   "source": [
    "# Training LSTM on 20 epochs\n",
    "\n",
    "start = time.time()\n",
    "LSTM_Model.compile(loss=\"sparse_categorical_crossentropy\", optimizer=optimizer, metrics=['accuracy'])\n",
    "LSTM_history = LSTM_Model.fit(X_train, y_train, epochs=20, validation_data=(X_valid, y_valid), batch_size = 128)\n",
    "end = time.time()\n",
    "print(\"Temps total d'execution = \"+str(end-start) +\" \"+ \"s\")"
   ]
  },
  {
   "cell_type": "code",
   "execution_count": 14,
   "metadata": {
    "colab": {
     "base_uri": "https://localhost:8080/",
     "height": 573
    },
    "executionInfo": {
     "elapsed": 577,
     "status": "ok",
     "timestamp": 1614787438932,
     "user": {
      "displayName": "Guy-Hermann Adiko",
      "photoUrl": "https://lh3.googleusercontent.com/a-/AOh14Gi0Rl7zpprx4ZnwvHMoD4zBxXTFAhkd0FQxuPl_Wg=s64",
      "userId": "13444144507395205469"
     },
     "user_tz": 300
    },
    "id": "gOw10NfIyKHb",
    "outputId": "e145fc20-2f1c-4b63-ce70-5a8f6df7ceea"
   },
   "outputs": [
    {
     "data": {
      "image/png": "[encoded data removed]",
      "text/plain": [
       "<Figure size 432x288 with 1 Axes>"
      ]
     },
     "metadata": {
      "needs_background": "light"
     },
     "output_type": "display_data"
    },
    {
     "data": {
      "image/png": "[encoded data removed]",
      "text/plain": [
       "<Figure size 432x288 with 1 Axes>"
      ]
     },
     "metadata": {
      "needs_background": "light"
     },
     "output_type": "display_data"
    }
   ],
   "source": [
    "# Plotting Training loss vs Validation loss\n",
    "\n",
    "plot_learning_curves(LSTM_history.history[\"loss\"], LSTM_history.history[\"val_loss\"], train_label = \"LSTM Training loss\", \n",
    "                     val_label = \"LSTM Validation loss\")\n",
    "plt.show()\n",
    "plot_learning_curves(LSTM_history.history[\"accuracy\"], LSTM_history.history[\"val_accuracy\"], y_label =\"Accuracy\", Title=\"Accuracy\",\n",
    "                         train_label = \"LSTM Train Accuracy\", val_label = \"LSTM Validation Accuracy\")"
   ]
  },
  {
   "cell_type": "code",
   "execution_count": 15,
   "metadata": {
    "colab": {
     "base_uri": "https://localhost:8080/"
    },
    "executionInfo": {
     "elapsed": 910,
     "status": "ok",
     "timestamp": 1614787446004,
     "user": {
      "displayName": "Guy-Hermann Adiko",
      "photoUrl": "https://lh3.googleusercontent.com/a-/AOh14Gi0Rl7zpprx4ZnwvHMoD4zBxXTFAhkd0FQxuPl_Wg=s64",
      "userId": "13444144507395205469"
     },
     "user_tz": 300
    },
    "id": "lFMstBYhyKHb",
    "outputId": "a66f02d1-93ba-45ca-df6b-e49f60016555"
   },
   "outputs": [
    {
     "name": "stdout",
     "output_type": "stream",
     "text": [
      "313/313 [==============================] - 1s 5ms/step - loss: 0.2038 - accuracy: 0.9396\n",
      "Summary: Loss over the test dataset: 0.20, Accuracy: 0.94\n"
     ]
    }
   ],
   "source": [
    "# LSTM Evaluation\n",
    "\n",
    "lstm_evaluation = LSTM_Model.evaluate(X_test, y_test)\n",
    "print('Summary: Loss over the test dataset: %.2f, Accuracy: %.2f' % (lstm_evaluation[0], lstm_evaluation[1]))"
   ]
  },
  {
   "cell_type": "code",
   "execution_count": 16,
   "metadata": {
    "colab": {
     "base_uri": "https://localhost:8080/",
     "height": 282
    },
    "executionInfo": {
     "elapsed": 679,
     "status": "ok",
     "timestamp": 1614787456745,
     "user": {
      "displayName": "Guy-Hermann Adiko",
      "photoUrl": "https://lh3.googleusercontent.com/a-/AOh14Gi0Rl7zpprx4ZnwvHMoD4zBxXTFAhkd0FQxuPl_Wg=s64",
      "userId": "13444144507395205469"
     },
     "user_tz": 300
    },
    "id": "hQs1P7MfyKHb",
    "outputId": "1c628262-57f5-4538-f1f8-2b5907774fbd"
   },
   "outputs": [
    {
     "name": "stdout",
     "output_type": "stream",
     "text": [
      "Predicted result is: [7], target result is: 7\n"
     ]
    },
    {
     "data": {
      "image/png": "[encoded data removed]",
      "text/plain": [
       "<Figure size 432x288 with 1 Axes>"
      ]
     },
     "metadata": {
      "needs_background": "light"
     },
     "output_type": "display_data"
    }
   ],
   "source": [
    "with tf.device(\"GPU:0\"):\n",
    "    \n",
    "    LSTM_Model.set_weights(LSTM_Model.get_weights())\n",
    "    result = tf.argmax(LSTM_Model.predict_on_batch(tf.expand_dims(sample, 0)), axis=1)\n",
    "    print(\n",
    "        \"Predicted result is: %s, target result is: %s\" % (result.numpy(), sample_label)\n",
    "    )\n",
    "    plt.imshow(sample, cmap=\"binary\")"
   ]
  },
  {
   "cell_type": "markdown",
   "metadata": {
    "id": "XEJs3eCbyKHc"
   },
   "source": [
    "---"
   ]
  },
  {
   "cell_type": "code",
   "execution_count": 17,
   "metadata": {
    "colab": {
     "base_uri": "https://localhost:8080/"
    },
    "executionInfo": {
     "elapsed": 60668,
     "status": "ok",
     "timestamp": 1614787524562,
     "user": {
      "displayName": "Guy-Hermann Adiko",
      "photoUrl": "https://lh3.googleusercontent.com/a-/AOh14Gi0Rl7zpprx4ZnwvHMoD4zBxXTFAhkd0FQxuPl_Wg=s64",
      "userId": "13444144507395205469"
     },
     "user_tz": 300
    },
    "id": "fBScI5gJyKHc",
    "outputId": "150b5f0e-4859-4ec7-ba47-3f860e1ce8ac",
    "scrolled": true
   },
   "outputs": [
    {
     "name": "stdout",
     "output_type": "stream",
     "text": [
      "Epoch 1/20\n",
      "430/430 [==============================] - 6s 10ms/step - loss: 1.7080 - accuracy: 0.3691 - val_loss: 1.0578 - val_accuracy: 0.6292\n",
      "Epoch 2/20\n",
      "430/430 [==============================] - 4s 9ms/step - loss: 1.0133 - accuracy: 0.6534 - val_loss: 0.8299 - val_accuracy: 0.7338\n",
      "Epoch 3/20\n",
      "430/430 [==============================] - 4s 9ms/step - loss: 0.8163 - accuracy: 0.7309 - val_loss: 0.7088 - val_accuracy: 0.7764\n",
      "Epoch 4/20\n",
      "430/430 [==============================] - 4s 9ms/step - loss: 0.7074 - accuracy: 0.7683 - val_loss: 0.6378 - val_accuracy: 0.7908\n",
      "Epoch 5/20\n",
      "430/430 [==============================] - 4s 9ms/step - loss: 0.6271 - accuracy: 0.7941 - val_loss: 0.5661 - val_accuracy: 0.8198\n",
      "Epoch 6/20\n",
      "430/430 [==============================] - 4s 9ms/step - loss: 0.5700 - accuracy: 0.8159 - val_loss: 0.5265 - val_accuracy: 0.8342\n",
      "Epoch 7/20\n",
      "430/430 [==============================] - 4s 9ms/step - loss: 0.5326 - accuracy: 0.8306 - val_loss: 0.4874 - val_accuracy: 0.8472\n",
      "Epoch 8/20\n",
      "430/430 [==============================] - 4s 9ms/step - loss: 0.5040 - accuracy: 0.8378 - val_loss: 0.4672 - val_accuracy: 0.8532\n",
      "Epoch 9/20\n",
      "430/430 [==============================] - 4s 10ms/step - loss: 0.4628 - accuracy: 0.8538 - val_loss: 0.4404 - val_accuracy: 0.8656\n",
      "Epoch 10/20\n",
      "430/430 [==============================] - 4s 10ms/step - loss: 0.4445 - accuracy: 0.8617 - val_loss: 0.4241 - val_accuracy: 0.8702\n",
      "Epoch 11/20\n",
      "430/430 [==============================] - 4s 10ms/step - loss: 0.4222 - accuracy: 0.8708 - val_loss: 0.3929 - val_accuracy: 0.8840\n",
      "Epoch 12/20\n",
      "430/430 [==============================] - 4s 9ms/step - loss: 0.3971 - accuracy: 0.8777 - val_loss: 0.3737 - val_accuracy: 0.8878\n",
      "Epoch 13/20\n",
      "430/430 [==============================] - 4s 9ms/step - loss: 0.3854 - accuracy: 0.8833 - val_loss: 0.3573 - val_accuracy: 0.8952\n",
      "Epoch 14/20\n",
      "430/430 [==============================] - 4s 10ms/step - loss: 0.3625 - accuracy: 0.8907 - val_loss: 0.3445 - val_accuracy: 0.8984\n",
      "Epoch 15/20\n",
      "430/430 [==============================] - 4s 10ms/step - loss: 0.3461 - accuracy: 0.8962 - val_loss: 0.3297 - val_accuracy: 0.9040\n",
      "Epoch 16/20\n",
      "430/430 [==============================] - 4s 9ms/step - loss: 0.3339 - accuracy: 0.9000 - val_loss: 0.3152 - val_accuracy: 0.9086\n",
      "Epoch 17/20\n",
      "430/430 [==============================] - 4s 10ms/step - loss: 0.3237 - accuracy: 0.9056 - val_loss: 0.3029 - val_accuracy: 0.9138\n",
      "Epoch 18/20\n",
      "430/430 [==============================] - 4s 9ms/step - loss: 0.3076 - accuracy: 0.9087 - val_loss: 0.2917 - val_accuracy: 0.9192\n",
      "Epoch 19/20\n",
      "430/430 [==============================] - 4s 9ms/step - loss: 0.2923 - accuracy: 0.9147 - val_loss: 0.2906 - val_accuracy: 0.9210\n",
      "Epoch 20/20\n",
      "430/430 [==============================] - 4s 10ms/step - loss: 0.2950 - accuracy: 0.9153 - val_loss: 0.2794 - val_accuracy: 0.9214\n",
      "Temps total d'execution = 81.88334107398987 s\n"
     ]
    }
   ],
   "source": [
    "# Training GRU on 20 epochs\n",
    "\n",
    "start = time.time()\n",
    "GRU_Model.compile(loss=\"sparse_categorical_crossentropy\", optimizer=optimizer, metrics=['accuracy'])\n",
    "GRU_history = GRU_Model.fit(X_train, y_train, epochs=20, validation_data=(X_valid, y_valid), batch_size = 128)\n",
    "end = time.time()\n",
    "print(\"Temps total d'execution = \"+str(end-start) +\" \"+ \"s\")"
   ]
  },
  {
   "cell_type": "code",
   "execution_count": 18,
   "metadata": {
    "colab": {
     "base_uri": "https://localhost:8080/",
     "height": 573
    },
    "executionInfo": {
     "elapsed": 493,
     "status": "ok",
     "timestamp": 1614787527498,
     "user": {
      "displayName": "Guy-Hermann Adiko",
      "photoUrl": "https://lh3.googleusercontent.com/a-/AOh14Gi0Rl7zpprx4ZnwvHMoD4zBxXTFAhkd0FQxuPl_Wg=s64",
      "userId": "13444144507395205469"
     },
     "user_tz": 300
    },
    "id": "yKCGB0OXyKHc",
    "outputId": "a749ac2f-9b03-4ffe-af11-ed5faa1a04f4"
   },
   "outputs": [
    {
     "data": {
      "image/png": "[encoded data removed]",
      "text/plain": [
       "<Figure size 432x288 with 1 Axes>"
      ]
     },
     "metadata": {
      "needs_background": "light"
     },
     "output_type": "display_data"
    },
    {
     "data": {
      "image/png": "[encoded data removed]",
      "text/plain": [
       "<Figure size 432x288 with 1 Axes>"
      ]
     },
     "metadata": {
      "needs_background": "light"
     },
     "output_type": "display_data"
    }
   ],
   "source": [
    "# Plotting Training loss vs Validation loss\n",
    "\n",
    "plot_learning_curves(GRU_history.history[\"loss\"], GRU_history.history[\"val_loss\"], train_label = \"GRU Train loss\", \n",
    "                     val_label = \"LSTM Validation loss\")\n",
    "plt.show()\n",
    "plot_learning_curves(GRU_history.history[\"accuracy\"], GRU_history.history[\"val_accuracy\"], y_label =\"Accuracy\", Title=\"Accuracy\",\n",
    "                         train_label = \"GRU Train Accuracy\", val_label = \"GRU Validation Accuracy\")"
   ]
  },
  {
   "cell_type": "code",
   "execution_count": 19,
   "metadata": {
    "colab": {
     "base_uri": "https://localhost:8080/"
    },
    "executionInfo": {
     "elapsed": 972,
     "status": "ok",
     "timestamp": 1614787536381,
     "user": {
      "displayName": "Guy-Hermann Adiko",
      "photoUrl": "https://lh3.googleusercontent.com/a-/AOh14Gi0Rl7zpprx4ZnwvHMoD4zBxXTFAhkd0FQxuPl_Wg=s64",
      "userId": "13444144507395205469"
     },
     "user_tz": 300
    },
    "id": "WJZBfP9EyKHc",
    "outputId": "e2d903a1-201e-4703-f372-b2fc407757dc"
   },
   "outputs": [
    {
     "name": "stdout",
     "output_type": "stream",
     "text": [
      "313/313 [==============================] - 2s 5ms/step - loss: 0.2786 - accuracy: 0.9167\n",
      "Summary: Loss over the test dataset: 0.28, Accuracy: 0.92\n"
     ]
    }
   ],
   "source": [
    "# GRU Evaluation\n",
    "\n",
    "gru_evaluation = GRU_Model.evaluate(X_test, y_test)\n",
    "print('Summary: Loss over the test dataset: %.2f, Accuracy: %.2f' % (gru_evaluation[0], gru_evaluation[1]))"
   ]
  },
  {
   "cell_type": "code",
   "execution_count": 20,
   "metadata": {
    "colab": {
     "base_uri": "https://localhost:8080/",
     "height": 282
    },
    "executionInfo": {
     "elapsed": 697,
     "status": "ok",
     "timestamp": 1614787579378,
     "user": {
      "displayName": "Guy-Hermann Adiko",
      "photoUrl": "https://lh3.googleusercontent.com/a-/AOh14Gi0Rl7zpprx4ZnwvHMoD4zBxXTFAhkd0FQxuPl_Wg=s64",
      "userId": "13444144507395205469"
     },
     "user_tz": 300
    },
    "id": "h-SzHDOA1nGP",
    "outputId": "3888f37e-bee8-4df0-ada1-7c307e3b2fdb"
   },
   "outputs": [
    {
     "name": "stdout",
     "output_type": "stream",
     "text": [
      "Predicted result is: [7], target result is: 7\n"
     ]
    },
    {
     "data": {
      "image/png": "[encoded data removed]",
      "text/plain": [
       "<Figure size 432x288 with 1 Axes>"
      ]
     },
     "metadata": {
      "needs_background": "light"
     },
     "output_type": "display_data"
    }
   ],
   "source": [
    "with tf.device(\"GPU:0\"):\n",
    "    \n",
    "    GRU_Model.set_weights(GRU_Model.get_weights())\n",
    "    result = tf.argmax(GRU_Model.predict_on_batch(tf.expand_dims(sample, 0)), axis=1)\n",
    "    print(\n",
    "        \"Predicted result is: %s, target result is: %s\" % (result.numpy(), sample_label)\n",
    "    )\n",
    "    plt.imshow(sample, cmap=\"binary\")"
   ]
  },
  {
   "cell_type": "markdown",
   "metadata": {
    "id": "Nrz3HHs0yKHd"
   },
   "source": [
    "#### Recap: Sur cette 1re experience, nous notons une meilleure performance sur les donnees de test pour les modeles LSTM et GRU (94% et 92% d'accuracy respectivement) comparativement a celle avec Simple RNN (77% d'accuracy)"
   ]
  },
  {
   "cell_type": "markdown",
   "metadata": {
    "id": "imhaxRLpyKHd"
   },
   "source": [
    "### Experience #2: Implementing a single layer with 20 neurons"
   ]
  },
  {
   "cell_type": "code",
   "execution_count": 21,
   "metadata": {
    "executionInfo": {
     "elapsed": 756,
     "status": "ok",
     "timestamp": 1614787608067,
     "user": {
      "displayName": "Guy-Hermann Adiko",
      "photoUrl": "https://lh3.googleusercontent.com/a-/AOh14Gi0Rl7zpprx4ZnwvHMoD4zBxXTFAhkd0FQxuPl_Wg=s64",
      "userId": "13444144507395205469"
     },
     "user_tz": 300
    },
    "id": "9ZaXYKcgyKHd"
   },
   "outputs": [],
   "source": [
    "RNN_Model = build_recurrent_model(recurrent_type ='SimpleRNN', n_recurrent_units = 20, n_recurrent_layers = 1)\n",
    "LSTM_Model = build_recurrent_model(recurrent_type ='LSTM', n_recurrent_units = 20, n_recurrent_layers = 1)\n",
    "GRU_Model = build_recurrent_model(recurrent_type ='GRU', n_recurrent_units = 20, n_recurrent_layers = 1)"
   ]
  },
  {
   "cell_type": "code",
   "execution_count": 22,
   "metadata": {
    "colab": {
     "base_uri": "https://localhost:8080/"
    },
    "executionInfo": {
     "elapsed": 232,
     "status": "ok",
     "timestamp": 1614787615016,
     "user": {
      "displayName": "Guy-Hermann Adiko",
      "photoUrl": "https://lh3.googleusercontent.com/a-/AOh14Gi0Rl7zpprx4ZnwvHMoD4zBxXTFAhkd0FQxuPl_Wg=s64",
      "userId": "13444144507395205469"
     },
     "user_tz": 300
    },
    "id": "zyNA4WR5yKHd",
    "outputId": "42b329a1-894b-44ab-dbe2-afae1d5f0295",
    "scrolled": true
   },
   "outputs": [
    {
     "name": "stdout",
     "output_type": "stream",
     "text": [
      "Model: \"sequential_3\"\n",
      "_________________________________________________________________\n",
      "Layer (type)                 Output Shape              Param #   \n",
      "=================================================================\n",
      "simple_rnn_1 (SimpleRNN)     (None, 20)                980       \n",
      "_________________________________________________________________\n",
      "dense_3 (Dense)              (None, 10)                210       \n",
      "=================================================================\n",
      "Total params: 1,190\n",
      "Trainable params: 1,190\n",
      "Non-trainable params: 0\n",
      "_________________________________________________________________\n",
      "None\n",
      "\n",
      "Model: \"sequential_4\"\n",
      "_________________________________________________________________\n",
      "Layer (type)                 Output Shape              Param #   \n",
      "=================================================================\n",
      "lstm_1 (LSTM)                (None, 20)                3920      \n",
      "_________________________________________________________________\n",
      "dense_4 (Dense)              (None, 10)                210       \n",
      "=================================================================\n",
      "Total params: 4,130\n",
      "Trainable params: 4,130\n",
      "Non-trainable params: 0\n",
      "_________________________________________________________________\n",
      "None\n",
      "\n",
      "Model: \"sequential_5\"\n",
      "_________________________________________________________________\n",
      "Layer (type)                 Output Shape              Param #   \n",
      "=================================================================\n",
      "gru_1 (GRU)                  (None, 20)                3000      \n",
      "_________________________________________________________________\n",
      "dense_5 (Dense)              (None, 10)                210       \n",
      "=================================================================\n",
      "Total params: 3,210\n",
      "Trainable params: 3,210\n",
      "Non-trainable params: 0\n",
      "_________________________________________________________________\n",
      "None\n"
     ]
    }
   ],
   "source": [
    "print(RNN_Model.summary())\n",
    "print()\n",
    "print(LSTM_Model.summary())\n",
    "print()\n",
    "print(GRU_Model.summary())"
   ]
  },
  {
   "cell_type": "markdown",
   "metadata": {
    "id": "VQAGrpAGyKHd"
   },
   "source": [
    "---"
   ]
  },
  {
   "cell_type": "code",
   "execution_count": 23,
   "metadata": {
    "colab": {
     "base_uri": "https://localhost:8080/"
    },
    "executionInfo": {
     "elapsed": 292018,
     "status": "ok",
     "timestamp": 1614787913794,
     "user": {
      "displayName": "Guy-Hermann Adiko",
      "photoUrl": "https://lh3.googleusercontent.com/a-/AOh14Gi0Rl7zpprx4ZnwvHMoD4zBxXTFAhkd0FQxuPl_Wg=s64",
      "userId": "13444144507395205469"
     },
     "user_tz": 300
    },
    "id": "LKJAnpeNyKHd",
    "outputId": "d11707fd-ef64-4b7b-834e-26d7d1b23259",
    "scrolled": true
   },
   "outputs": [
    {
     "name": "stdout",
     "output_type": "stream",
     "text": [
      "Epoch 1/20\n",
      "430/430 [==============================] - 20s 45ms/step - loss: 1.4943 - accuracy: 0.4857 - val_loss: 0.8693 - val_accuracy: 0.7210\n",
      "Epoch 2/20\n",
      "430/430 [==============================] - 19s 45ms/step - loss: 0.8518 - accuracy: 0.7219 - val_loss: 0.7278 - val_accuracy: 0.7688\n",
      "Epoch 3/20\n",
      "430/430 [==============================] - 20s 46ms/step - loss: 0.7278 - accuracy: 0.7645 - val_loss: 0.6551 - val_accuracy: 0.7906\n",
      "Epoch 4/20\n",
      "430/430 [==============================] - 18s 42ms/step - loss: 0.6706 - accuracy: 0.7803 - val_loss: 0.6198 - val_accuracy: 0.8030\n",
      "Epoch 5/20\n",
      "430/430 [==============================] - 24s 56ms/step - loss: 0.6330 - accuracy: 0.7947 - val_loss: 0.6070 - val_accuracy: 0.8030\n",
      "Epoch 6/20\n",
      "430/430 [==============================] - 22s 50ms/step - loss: 0.5963 - accuracy: 0.8070 - val_loss: 0.5532 - val_accuracy: 0.8214\n",
      "Epoch 7/20\n",
      "430/430 [==============================] - 22s 50ms/step - loss: 0.5702 - accuracy: 0.8136 - val_loss: 0.5396 - val_accuracy: 0.8236\n",
      "Epoch 8/20\n",
      "430/430 [==============================] - 27s 63ms/step - loss: 0.5558 - accuracy: 0.8211 - val_loss: 0.5186 - val_accuracy: 0.8312\n",
      "Epoch 9/20\n",
      "430/430 [==============================] - 23s 53ms/step - loss: 0.5246 - accuracy: 0.8337 - val_loss: 0.5058 - val_accuracy: 0.8388\n",
      "Epoch 10/20\n",
      "430/430 [==============================] - 23s 53ms/step - loss: 0.5099 - accuracy: 0.8407 - val_loss: 0.4753 - val_accuracy: 0.8484\n",
      "Epoch 11/20\n",
      "430/430 [==============================] - 21s 49ms/step - loss: 0.4918 - accuracy: 0.8475 - val_loss: 0.4623 - val_accuracy: 0.8574\n",
      "Epoch 12/20\n",
      "430/430 [==============================] - 21s 49ms/step - loss: 0.4702 - accuracy: 0.8537 - val_loss: 0.4291 - val_accuracy: 0.8660\n",
      "Epoch 13/20\n",
      "430/430 [==============================] - 24s 55ms/step - loss: 0.4557 - accuracy: 0.8605 - val_loss: 0.4231 - val_accuracy: 0.8722\n",
      "Epoch 14/20\n",
      "430/430 [==============================] - 22s 52ms/step - loss: 0.4329 - accuracy: 0.8658 - val_loss: 0.4315 - val_accuracy: 0.8690\n",
      "Epoch 15/20\n",
      "430/430 [==============================] - 23s 53ms/step - loss: 0.4234 - accuracy: 0.8700 - val_loss: 0.3949 - val_accuracy: 0.8790\n",
      "Epoch 16/20\n",
      "430/430 [==============================] - 23s 54ms/step - loss: 0.4152 - accuracy: 0.8743 - val_loss: 0.3746 - val_accuracy: 0.8826\n",
      "Epoch 17/20\n",
      "430/430 [==============================] - 23s 53ms/step - loss: 0.3874 - accuracy: 0.8821 - val_loss: 0.3916 - val_accuracy: 0.8810\n",
      "Epoch 18/20\n",
      "430/430 [==============================] - 23s 52ms/step - loss: 0.3781 - accuracy: 0.8852 - val_loss: 0.3497 - val_accuracy: 0.8886\n",
      "Epoch 19/20\n",
      "430/430 [==============================] - 22s 52ms/step - loss: 0.3595 - accuracy: 0.8918 - val_loss: 0.3616 - val_accuracy: 0.8906\n",
      "Epoch 20/20\n",
      "430/430 [==============================] - 22s 52ms/step - loss: 0.3583 - accuracy: 0.8924 - val_loss: 0.3152 - val_accuracy: 0.9048\n",
      "Temps total d'execution = 441.67068338394165 s\n"
     ]
    }
   ],
   "source": [
    "# Training Simple RNN on 20 epochs\n",
    "\n",
    "start = time.time()\n",
    "RNN_Model.compile(loss=\"sparse_categorical_crossentropy\", optimizer=optimizer, metrics=['accuracy'])\n",
    "RNN_history = RNN_Model.fit(X_train, y_train, epochs=20, validation_data=(X_valid, y_valid), batch_size = 128)\n",
    "end = time.time()\n",
    "print(\"Temps total d'execution = \"+str(end-start) +\" \"+ \"s\")"
   ]
  },
  {
   "cell_type": "code",
   "execution_count": 24,
   "metadata": {
    "colab": {
     "base_uri": "https://localhost:8080/",
     "height": 573
    },
    "executionInfo": {
     "elapsed": 791,
     "status": "ok",
     "timestamp": 1614787919581,
     "user": {
      "displayName": "Guy-Hermann Adiko",
      "photoUrl": "https://lh3.googleusercontent.com/a-/AOh14Gi0Rl7zpprx4ZnwvHMoD4zBxXTFAhkd0FQxuPl_Wg=s64",
      "userId": "13444144507395205469"
     },
     "user_tz": 300
    },
    "id": "hZYT-7pzyKHe",
    "outputId": "a376481d-91c9-46d2-d847-82d7a523e17e"
   },
   "outputs": [
    {
     "data": {
      "image/png": "[encoded data removed]",
      "text/plain": [
       "<Figure size 432x288 with 1 Axes>"
      ]
     },
     "metadata": {
      "needs_background": "light"
     },
     "output_type": "display_data"
    },
    {
     "data": {
      "image/png": "[encoded data removed]",
      "text/plain": [
       "<Figure size 432x288 with 1 Axes>"
      ]
     },
     "metadata": {
      "needs_background": "light"
     },
     "output_type": "display_data"
    }
   ],
   "source": [
    "plot_learning_curves(RNN_history.history[\"loss\"], RNN_history.history[\"val_loss\"])\n",
    "plt.show()\n",
    "plot_learning_curves(RNN_history.history[\"accuracy\"], RNN_history.history[\"val_accuracy\"], y_label =\"Accuracy\", Title=\"Accuracy\",\n",
    "                         train_label = \"Simple RNN Train Accuracy\", val_label = \"Simple RNN Validation Accuracy\")"
   ]
  },
  {
   "cell_type": "code",
   "execution_count": 25,
   "metadata": {
    "colab": {
     "base_uri": "https://localhost:8080/"
    },
    "executionInfo": {
     "elapsed": 1366,
     "status": "ok",
     "timestamp": 1614787925385,
     "user": {
      "displayName": "Guy-Hermann Adiko",
      "photoUrl": "https://lh3.googleusercontent.com/a-/AOh14Gi0Rl7zpprx4ZnwvHMoD4zBxXTFAhkd0FQxuPl_Wg=s64",
      "userId": "13444144507395205469"
     },
     "user_tz": 300
    },
    "id": "4BZpl-_EyKHe",
    "outputId": "be7ab084-1cd6-4d2f-caf8-21515b555816"
   },
   "outputs": [
    {
     "name": "stdout",
     "output_type": "stream",
     "text": [
      "313/313 [==============================] - 3s 8ms/step - loss: 0.3201 - accuracy: 0.9023\n",
      "Summary: Loss over the test dataset: 0.32, Accuracy: 0.90\n"
     ]
    }
   ],
   "source": [
    "# Simple RNN Evaluation\n",
    "\n",
    "rnn_evaluation = RNN_Model.evaluate(X_test, y_test)\n",
    "print('Summary: Loss over the test dataset: %.2f, Accuracy: %.2f' % (rnn_evaluation[0], rnn_evaluation[1]))"
   ]
  },
  {
   "cell_type": "code",
   "execution_count": 26,
   "metadata": {
    "colab": {
     "base_uri": "https://localhost:8080/",
     "height": 282
    },
    "executionInfo": {
     "elapsed": 502,
     "status": "ok",
     "timestamp": 1614787961088,
     "user": {
      "displayName": "Guy-Hermann Adiko",
      "photoUrl": "https://lh3.googleusercontent.com/a-/AOh14Gi0Rl7zpprx4ZnwvHMoD4zBxXTFAhkd0FQxuPl_Wg=s64",
      "userId": "13444144507395205469"
     },
     "user_tz": 300
    },
    "id": "_h3sdNtK3GIR",
    "outputId": "fee677ce-271c-43a7-bb8a-745be5024ce7"
   },
   "outputs": [
    {
     "name": "stdout",
     "output_type": "stream",
     "text": [
      "Predicted result is: [7], target result is: 7\n"
     ]
    },
    {
     "data": {
      "image/png": "[encoded data removed]",
      "text/plain": [
       "<Figure size 432x288 with 1 Axes>"
      ]
     },
     "metadata": {
      "needs_background": "light"
     },
     "output_type": "display_data"
    }
   ],
   "source": [
    "with tf.device(\"GPU:0\"):\n",
    "    \n",
    "    RNN_Model.set_weights(RNN_Model.get_weights())\n",
    "    result = tf.argmax(RNN_Model.predict_on_batch(tf.expand_dims(sample, 0)), axis=1)\n",
    "    print(\n",
    "        \"Predicted result is: %s, target result is: %s\" % (result.numpy(), sample_label)\n",
    "    )\n",
    "    plt.imshow(sample, cmap=\"binary\")"
   ]
  },
  {
   "cell_type": "markdown",
   "metadata": {
    "id": "P89QD1AryKHe"
   },
   "source": [
    "---"
   ]
  },
  {
   "cell_type": "code",
   "execution_count": 27,
   "metadata": {
    "colab": {
     "base_uri": "https://localhost:8080/"
    },
    "executionInfo": {
     "elapsed": 65283,
     "status": "ok",
     "timestamp": 1614788052265,
     "user": {
      "displayName": "Guy-Hermann Adiko",
      "photoUrl": "https://lh3.googleusercontent.com/a-/AOh14Gi0Rl7zpprx4ZnwvHMoD4zBxXTFAhkd0FQxuPl_Wg=s64",
      "userId": "13444144507395205469"
     },
     "user_tz": 300
    },
    "id": "5g5MaUyuyKHf",
    "outputId": "ac0b8fb9-6cb8-4a62-8ef6-df940918c25f",
    "scrolled": true
   },
   "outputs": [
    {
     "name": "stdout",
     "output_type": "stream",
     "text": [
      "Epoch 1/20\n",
      "430/430 [==============================] - 6s 10ms/step - loss: 1.1564 - accuracy: 0.6078 - val_loss: 0.3550 - val_accuracy: 0.9006\n",
      "Epoch 2/20\n",
      "430/430 [==============================] - 4s 9ms/step - loss: 0.3183 - accuracy: 0.9053 - val_loss: 0.2311 - val_accuracy: 0.9336\n",
      "Epoch 3/20\n",
      "430/430 [==============================] - 4s 9ms/step - loss: 0.2347 - accuracy: 0.9317 - val_loss: 0.1846 - val_accuracy: 0.9470\n",
      "Epoch 4/20\n",
      "430/430 [==============================] - 4s 10ms/step - loss: 0.1967 - accuracy: 0.9431 - val_loss: 0.1653 - val_accuracy: 0.9516\n",
      "Epoch 5/20\n",
      "430/430 [==============================] - 4s 9ms/step - loss: 0.1700 - accuracy: 0.9504 - val_loss: 0.1556 - val_accuracy: 0.9556\n",
      "Epoch 6/20\n",
      "430/430 [==============================] - 4s 9ms/step - loss: 0.1553 - accuracy: 0.9559 - val_loss: 0.1377 - val_accuracy: 0.9638\n",
      "Epoch 7/20\n",
      "430/430 [==============================] - 4s 9ms/step - loss: 0.1440 - accuracy: 0.9573 - val_loss: 0.1360 - val_accuracy: 0.9602\n",
      "Epoch 8/20\n",
      "430/430 [==============================] - 4s 9ms/step - loss: 0.1349 - accuracy: 0.9598 - val_loss: 0.1181 - val_accuracy: 0.9666\n",
      "Epoch 9/20\n",
      "430/430 [==============================] - 4s 9ms/step - loss: 0.1201 - accuracy: 0.9644 - val_loss: 0.1148 - val_accuracy: 0.9680\n",
      "Epoch 10/20\n",
      "430/430 [==============================] - 4s 10ms/step - loss: 0.1184 - accuracy: 0.9657 - val_loss: 0.1123 - val_accuracy: 0.9702\n",
      "Epoch 11/20\n",
      "430/430 [==============================] - 4s 10ms/step - loss: 0.1131 - accuracy: 0.9663 - val_loss: 0.1092 - val_accuracy: 0.9680\n",
      "Epoch 12/20\n",
      "430/430 [==============================] - 4s 10ms/step - loss: 0.1089 - accuracy: 0.9669 - val_loss: 0.1073 - val_accuracy: 0.9708\n",
      "Epoch 13/20\n",
      "430/430 [==============================] - 4s 10ms/step - loss: 0.1015 - accuracy: 0.9703 - val_loss: 0.1028 - val_accuracy: 0.9712\n",
      "Epoch 14/20\n",
      "430/430 [==============================] - 4s 9ms/step - loss: 0.1008 - accuracy: 0.9704 - val_loss: 0.1036 - val_accuracy: 0.9712\n",
      "Epoch 15/20\n",
      "430/430 [==============================] - 4s 10ms/step - loss: 0.0954 - accuracy: 0.9719 - val_loss: 0.1031 - val_accuracy: 0.9722\n",
      "Epoch 16/20\n",
      "430/430 [==============================] - 4s 9ms/step - loss: 0.0918 - accuracy: 0.9724 - val_loss: 0.0937 - val_accuracy: 0.9728\n",
      "Epoch 17/20\n",
      "430/430 [==============================] - 4s 10ms/step - loss: 0.0873 - accuracy: 0.9742 - val_loss: 0.1020 - val_accuracy: 0.9712\n",
      "Epoch 18/20\n",
      "430/430 [==============================] - 4s 9ms/step - loss: 0.0845 - accuracy: 0.9754 - val_loss: 0.0974 - val_accuracy: 0.9736\n",
      "Epoch 19/20\n",
      "430/430 [==============================] - 4s 10ms/step - loss: 0.0773 - accuracy: 0.9778 - val_loss: 0.0961 - val_accuracy: 0.9724\n",
      "Epoch 20/20\n",
      "430/430 [==============================] - 4s 10ms/step - loss: 0.0815 - accuracy: 0.9766 - val_loss: 0.0908 - val_accuracy: 0.9742\n",
      "Temps total d'execution = 82.07754945755005 s\n"
     ]
    }
   ],
   "source": [
    "# Training LSTM on 20 epochs\n",
    "\n",
    "start = time.time()\n",
    "LSTM_Model.compile(loss=\"sparse_categorical_crossentropy\", optimizer=optimizer, metrics=['accuracy'])\n",
    "LSTM_history = LSTM_Model.fit(X_train, y_train, epochs=20, validation_data=(X_valid, y_valid), batch_size = 128)\n",
    "end = time.time()\n",
    "print(\"Temps total d'execution = \"+str(end-start) +\" \"+ \"s\")"
   ]
  },
  {
   "cell_type": "code",
   "execution_count": 28,
   "metadata": {
    "colab": {
     "base_uri": "https://localhost:8080/",
     "height": 573
    },
    "executionInfo": {
     "elapsed": 512,
     "status": "ok",
     "timestamp": 1614788055732,
     "user": {
      "displayName": "Guy-Hermann Adiko",
      "photoUrl": "https://lh3.googleusercontent.com/a-/AOh14Gi0Rl7zpprx4ZnwvHMoD4zBxXTFAhkd0FQxuPl_Wg=s64",
      "userId": "13444144507395205469"
     },
     "user_tz": 300
    },
    "id": "sZHKpyL7yKHg",
    "outputId": "e0714225-003d-4749-9d33-1c77800ec8ea"
   },
   "outputs": [
    {
     "data": {
      "image/png": "[encoded data removed]",
      "text/plain": [
       "<Figure size 432x288 with 1 Axes>"
      ]
     },
     "metadata": {
      "needs_background": "light"
     },
     "output_type": "display_data"
    },
    {
     "data": {
      "image/png": "[encoded data removed]",
      "text/plain": [
       "<Figure size 432x288 with 1 Axes>"
      ]
     },
     "metadata": {
      "needs_background": "light"
     },
     "output_type": "display_data"
    }
   ],
   "source": [
    "# Plotting Training loss vs Validation loss\n",
    "\n",
    "plot_learning_curves(LSTM_history.history[\"loss\"], LSTM_history.history[\"val_loss\"], train_label = \"LSTM Train loss\", \n",
    "                     val_label = \"LSTM Validation loss\")\n",
    "plt.show()\n",
    "plot_learning_curves(LSTM_history.history[\"accuracy\"], LSTM_history.history[\"val_accuracy\"], y_label =\"Accuracy\", Title=\"Accuracy\",\n",
    "                         train_label = \"LSTM Train Accuracy\", val_label = \"LSTM Validation Accuracy\")"
   ]
  },
  {
   "cell_type": "code",
   "execution_count": 29,
   "metadata": {
    "colab": {
     "base_uri": "https://localhost:8080/"
    },
    "executionInfo": {
     "elapsed": 1196,
     "status": "ok",
     "timestamp": 1614788069912,
     "user": {
      "displayName": "Guy-Hermann Adiko",
      "photoUrl": "https://lh3.googleusercontent.com/a-/AOh14Gi0Rl7zpprx4ZnwvHMoD4zBxXTFAhkd0FQxuPl_Wg=s64",
      "userId": "13444144507395205469"
     },
     "user_tz": 300
    },
    "id": "Rp9w0MqPyKHh",
    "outputId": "128205fc-8908-4e78-cbbc-3c7303227991"
   },
   "outputs": [
    {
     "name": "stdout",
     "output_type": "stream",
     "text": [
      "313/313 [==============================] - 2s 5ms/step - loss: 0.0852 - accuracy: 0.9742\n",
      "Summary: Loss over the test dataset: 0.09, Accuracy: 0.97\n"
     ]
    }
   ],
   "source": [
    "# LSTM Evaluation\n",
    "\n",
    "lstm_evaluation = LSTM_Model.evaluate(X_test, y_test)\n",
    "print('Summary: Loss over the test dataset: %.2f, Accuracy: %.2f' % (lstm_evaluation[0], lstm_evaluation[1]))"
   ]
  },
  {
   "cell_type": "code",
   "execution_count": 31,
   "metadata": {
    "colab": {
     "base_uri": "https://localhost:8080/",
     "height": 282
    },
    "executionInfo": {
     "elapsed": 382,
     "status": "ok",
     "timestamp": 1614788126234,
     "user": {
      "displayName": "Guy-Hermann Adiko",
      "photoUrl": "https://lh3.googleusercontent.com/a-/AOh14Gi0Rl7zpprx4ZnwvHMoD4zBxXTFAhkd0FQxuPl_Wg=s64",
      "userId": "13444144507395205469"
     },
     "user_tz": 300
    },
    "id": "-JM5wExU3pBB",
    "outputId": "d88cad26-ba9d-4121-be36-4e182c8676b2"
   },
   "outputs": [
    {
     "name": "stdout",
     "output_type": "stream",
     "text": [
      "Predicted result is: [7], target result is: 7\n"
     ]
    },
    {
     "data": {
      "image/png": "[encoded data removed]",
      "text/plain": [
       "<Figure size 432x288 with 1 Axes>"
      ]
     },
     "metadata": {
      "needs_background": "light"
     },
     "output_type": "display_data"
    }
   ],
   "source": [
    "with tf.device(\"GPU:0\"):\n",
    "    \n",
    "    LSTM_Model.set_weights(LSTM_Model.get_weights())\n",
    "    result = tf.argmax(LSTM_Model.predict_on_batch(tf.expand_dims(sample, 0)), axis=1)\n",
    "    print(\n",
    "        \"Predicted result is: %s, target result is: %s\" % (result.numpy(), sample_label)\n",
    "    )\n",
    "    plt.imshow(sample, cmap=\"binary\")"
   ]
  },
  {
   "cell_type": "markdown",
   "metadata": {
    "id": "6VOlpxOvyKHh"
   },
   "source": [
    "---"
   ]
  },
  {
   "cell_type": "code",
   "execution_count": 32,
   "metadata": {
    "colab": {
     "base_uri": "https://localhost:8080/"
    },
    "executionInfo": {
     "elapsed": 62068,
     "status": "ok",
     "timestamp": 1614788198622,
     "user": {
      "displayName": "Guy-Hermann Adiko",
      "photoUrl": "https://lh3.googleusercontent.com/a-/AOh14Gi0Rl7zpprx4ZnwvHMoD4zBxXTFAhkd0FQxuPl_Wg=s64",
      "userId": "13444144507395205469"
     },
     "user_tz": 300
    },
    "id": "uqpeRMU-yKHh",
    "outputId": "05033638-88da-4e23-9130-102d8c20a90e",
    "scrolled": true
   },
   "outputs": [
    {
     "name": "stdout",
     "output_type": "stream",
     "text": [
      "Epoch 1/20\n",
      "430/430 [==============================] - 5s 10ms/step - loss: 1.3048 - accuracy: 0.5468 - val_loss: 0.4492 - val_accuracy: 0.8710\n",
      "Epoch 2/20\n",
      "430/430 [==============================] - 4s 9ms/step - loss: 0.4137 - accuracy: 0.8780 - val_loss: 0.3144 - val_accuracy: 0.9090\n",
      "Epoch 3/20\n",
      "430/430 [==============================] - 4s 9ms/step - loss: 0.3098 - accuracy: 0.9098 - val_loss: 0.2555 - val_accuracy: 0.9286\n",
      "Epoch 4/20\n",
      "430/430 [==============================] - 4s 9ms/step - loss: 0.2555 - accuracy: 0.9266 - val_loss: 0.2275 - val_accuracy: 0.9346\n",
      "Epoch 5/20\n",
      "430/430 [==============================] - 4s 9ms/step - loss: 0.2240 - accuracy: 0.9364 - val_loss: 0.2027 - val_accuracy: 0.9428\n",
      "Epoch 6/20\n",
      "430/430 [==============================] - 4s 9ms/step - loss: 0.2006 - accuracy: 0.9442 - val_loss: 0.1875 - val_accuracy: 0.9464\n",
      "Epoch 7/20\n",
      "430/430 [==============================] - 4s 9ms/step - loss: 0.1853 - accuracy: 0.9471 - val_loss: 0.1814 - val_accuracy: 0.9492\n",
      "Epoch 8/20\n",
      "430/430 [==============================] - 4s 9ms/step - loss: 0.1812 - accuracy: 0.9474 - val_loss: 0.1669 - val_accuracy: 0.9536\n",
      "Epoch 9/20\n",
      "430/430 [==============================] - 4s 9ms/step - loss: 0.1587 - accuracy: 0.9538 - val_loss: 0.1638 - val_accuracy: 0.9558\n",
      "Epoch 10/20\n",
      "430/430 [==============================] - 4s 9ms/step - loss: 0.1558 - accuracy: 0.9547 - val_loss: 0.1616 - val_accuracy: 0.9542\n",
      "Epoch 11/20\n",
      "430/430 [==============================] - 4s 9ms/step - loss: 0.1531 - accuracy: 0.9565 - val_loss: 0.1525 - val_accuracy: 0.9576\n",
      "Epoch 12/20\n",
      "430/430 [==============================] - 4s 9ms/step - loss: 0.1457 - accuracy: 0.9595 - val_loss: 0.1444 - val_accuracy: 0.9610\n",
      "Epoch 13/20\n",
      "430/430 [==============================] - 4s 9ms/step - loss: 0.1397 - accuracy: 0.9610 - val_loss: 0.1430 - val_accuracy: 0.9618\n",
      "Epoch 14/20\n",
      "430/430 [==============================] - 4s 9ms/step - loss: 0.1349 - accuracy: 0.9606 - val_loss: 0.1412 - val_accuracy: 0.9620\n",
      "Epoch 15/20\n",
      "430/430 [==============================] - 4s 9ms/step - loss: 0.1291 - accuracy: 0.9630 - val_loss: 0.1380 - val_accuracy: 0.9610\n",
      "Epoch 16/20\n",
      "430/430 [==============================] - 4s 9ms/step - loss: 0.1264 - accuracy: 0.9633 - val_loss: 0.1401 - val_accuracy: 0.9624\n",
      "Epoch 17/20\n",
      "430/430 [==============================] - 4s 9ms/step - loss: 0.1216 - accuracy: 0.9637 - val_loss: 0.1357 - val_accuracy: 0.9642\n",
      "Epoch 18/20\n",
      "430/430 [==============================] - 4s 9ms/step - loss: 0.1141 - accuracy: 0.9666 - val_loss: 0.1257 - val_accuracy: 0.9646\n",
      "Epoch 19/20\n",
      "430/430 [==============================] - 4s 9ms/step - loss: 0.1061 - accuracy: 0.9695 - val_loss: 0.1298 - val_accuracy: 0.9656\n",
      "Epoch 20/20\n",
      "430/430 [==============================] - 4s 10ms/step - loss: 0.1121 - accuracy: 0.9673 - val_loss: 0.1234 - val_accuracy: 0.9652\n",
      "Temps total d'execution = 77.65924787521362 s\n"
     ]
    }
   ],
   "source": [
    "# Training GRU on 20 epochs\n",
    "\n",
    "start = time.time()\n",
    "GRU_Model.compile(loss=\"sparse_categorical_crossentropy\", optimizer=optimizer, metrics=['accuracy'])\n",
    "GRU_history = GRU_Model.fit(X_train, y_train, epochs=20, validation_data=(X_valid, y_valid), batch_size = 128)\n",
    "end = time.time()\n",
    "print(\"Temps total d'execution = \"+str(end-start) +\" \"+ \"s\")"
   ]
  },
  {
   "cell_type": "code",
   "execution_count": 33,
   "metadata": {
    "colab": {
     "base_uri": "https://localhost:8080/",
     "height": 573
    },
    "executionInfo": {
     "elapsed": 956,
     "status": "ok",
     "timestamp": 1614788204489,
     "user": {
      "displayName": "Guy-Hermann Adiko",
      "photoUrl": "https://lh3.googleusercontent.com/a-/AOh14Gi0Rl7zpprx4ZnwvHMoD4zBxXTFAhkd0FQxuPl_Wg=s64",
      "userId": "13444144507395205469"
     },
     "user_tz": 300
    },
    "id": "fxwMgSXVyKHh",
    "outputId": "49864c91-c5f9-4e10-d19d-62ff5d041755"
   },
   "outputs": [
    {
     "data": {
      "image/png": "[encoded data removed]",
      "text/plain": [
       "<Figure size 432x288 with 1 Axes>"
      ]
     },
     "metadata": {
      "needs_background": "light"
     },
     "output_type": "display_data"
    },
    {
     "data": {
      "image/png": "[encoded data removed]",
      "text/plain": [
       "<Figure size 432x288 with 1 Axes>"
      ]
     },
     "metadata": {
      "needs_background": "light"
     },
     "output_type": "display_data"
    }
   ],
   "source": [
    "# Plotting Training loss vs Validation loss\n",
    "\n",
    "plot_learning_curves(GRU_history.history[\"loss\"], GRU_history.history[\"val_loss\"], train_label = \"GRU Train loss\", \n",
    "                     val_label = \"GRU Validation loss\")\n",
    "plt.show()\n",
    "plot_learning_curves(GRU_history.history[\"accuracy\"], GRU_history.history[\"val_accuracy\"], y_label =\"Accuracy\", Title=\"Accuracy\",\n",
    "                         train_label = \"GRU Train Accuracy\", val_label = \"GRU Validation Accuracy\")"
   ]
  },
  {
   "cell_type": "code",
   "execution_count": 34,
   "metadata": {
    "colab": {
     "base_uri": "https://localhost:8080/"
    },
    "executionInfo": {
     "elapsed": 988,
     "status": "ok",
     "timestamp": 1614788215004,
     "user": {
      "displayName": "Guy-Hermann Adiko",
      "photoUrl": "https://lh3.googleusercontent.com/a-/AOh14Gi0Rl7zpprx4ZnwvHMoD4zBxXTFAhkd0FQxuPl_Wg=s64",
      "userId": "13444144507395205469"
     },
     "user_tz": 300
    },
    "id": "2eHDBRxFyKHi",
    "outputId": "d978412b-04d2-4690-8f20-96d44d769f1d"
   },
   "outputs": [
    {
     "name": "stdout",
     "output_type": "stream",
     "text": [
      "313/313 [==============================] - 2s 5ms/step - loss: 0.1240 - accuracy: 0.9658\n",
      "Summary: Loss over the test dataset: 0.12, Accuracy: 0.97\n"
     ]
    }
   ],
   "source": [
    "# GRU Evaluation\n",
    "\n",
    "gru_evaluation = GRU_Model.evaluate(X_test, y_test)\n",
    "print('Summary: Loss over the test dataset: %.2f, Accuracy: %.2f' % (gru_evaluation[0], gru_evaluation[1]))"
   ]
  },
  {
   "cell_type": "code",
   "execution_count": 36,
   "metadata": {
    "colab": {
     "base_uri": "https://localhost:8080/",
     "height": 282
    },
    "executionInfo": {
     "elapsed": 400,
     "status": "ok",
     "timestamp": 1614788249541,
     "user": {
      "displayName": "Guy-Hermann Adiko",
      "photoUrl": "https://lh3.googleusercontent.com/a-/AOh14Gi0Rl7zpprx4ZnwvHMoD4zBxXTFAhkd0FQxuPl_Wg=s64",
      "userId": "13444144507395205469"
     },
     "user_tz": 300
    },
    "id": "jWgNtiuy4Mcv",
    "outputId": "da19b2ba-ccc3-4fc6-bf97-402bc8fa028b"
   },
   "outputs": [
    {
     "name": "stdout",
     "output_type": "stream",
     "text": [
      "Predicted result is: [7], target result is: 7\n"
     ]
    },
    {
     "data": {
      "image/png": "[encoded data removed]",
      "text/plain": [
       "<Figure size 432x288 with 1 Axes>"
      ]
     },
     "metadata": {
      "needs_background": "light"
     },
     "output_type": "display_data"
    }
   ],
   "source": [
    "with tf.device(\"GPU:0\"):\n",
    "    \n",
    "    GRU_Model.set_weights(GRU_Model.get_weights())\n",
    "    result = tf.argmax(GRU_Model.predict_on_batch(tf.expand_dims(sample, 0)), axis=1)\n",
    "    print(\n",
    "        \"Predicted result is: %s, target result is: %s\" % (result.numpy(), sample_label)\n",
    "    )\n",
    "    plt.imshow(sample, cmap=\"binary\")"
   ]
  },
  {
   "cell_type": "markdown",
   "metadata": {
    "id": "Mog1_sI4yKHi"
   },
   "source": [
    "#### Recap: Pour la 2eme experience, nous notons encore la pire performance avec le Simple RNN, 90% d'accuracy. Le LSTM et le GRU enregistrent la meme performance sur les donnees test (97%)."
   ]
  },
  {
   "cell_type": "markdown",
   "metadata": {
    "id": "1UXE5DKGyKHi"
   },
   "source": [
    "### Experience #3: Implementing 3 recurrent layers with 10 neurons each"
   ]
  },
  {
   "cell_type": "code",
   "execution_count": 37,
   "metadata": {
    "executionInfo": {
     "elapsed": 1793,
     "status": "ok",
     "timestamp": 1614788258363,
     "user": {
      "displayName": "Guy-Hermann Adiko",
      "photoUrl": "https://lh3.googleusercontent.com/a-/AOh14Gi0Rl7zpprx4ZnwvHMoD4zBxXTFAhkd0FQxuPl_Wg=s64",
      "userId": "13444144507395205469"
     },
     "user_tz": 300
    },
    "id": "awoCZ9EUyKHi"
   },
   "outputs": [],
   "source": [
    "RNN_Model = build_recurrent_model(recurrent_type ='SimpleRNN', n_recurrent_units = 10, n_recurrent_layers = 3)\n",
    "LSTM_Model = build_recurrent_model(recurrent_type ='LSTM', n_recurrent_units = 10, n_recurrent_layers = 3)\n",
    "GRU_Model = build_recurrent_model(recurrent_type ='GRU', n_recurrent_units = 10, n_recurrent_layers = 3)"
   ]
  },
  {
   "cell_type": "code",
   "execution_count": 38,
   "metadata": {
    "colab": {
     "base_uri": "https://localhost:8080/"
    },
    "executionInfo": {
     "elapsed": 245,
     "status": "ok",
     "timestamp": 1614788373320,
     "user": {
      "displayName": "Guy-Hermann Adiko",
      "photoUrl": "https://lh3.googleusercontent.com/a-/AOh14Gi0Rl7zpprx4ZnwvHMoD4zBxXTFAhkd0FQxuPl_Wg=s64",
      "userId": "13444144507395205469"
     },
     "user_tz": 300
    },
    "id": "1D4zSY3ayKHi",
    "outputId": "f37526d0-ef52-4161-c5ad-4016b0b6149b",
    "scrolled": true
   },
   "outputs": [
    {
     "name": "stdout",
     "output_type": "stream",
     "text": [
      "Model: \"sequential_6\"\n",
      "_________________________________________________________________\n",
      "Layer (type)                 Output Shape              Param #   \n",
      "=================================================================\n",
      "simple_rnn_2 (SimpleRNN)     (None, 28, 10)            390       \n",
      "_________________________________________________________________\n",
      "simple_rnn_3 (SimpleRNN)     (None, 28, 10)            210       \n",
      "_________________________________________________________________\n",
      "simple_rnn_4 (SimpleRNN)     (None, 10)                210       \n",
      "_________________________________________________________________\n",
      "dense_6 (Dense)              (None, 10)                110       \n",
      "=================================================================\n",
      "Total params: 920\n",
      "Trainable params: 920\n",
      "Non-trainable params: 0\n",
      "_________________________________________________________________\n",
      "None\n",
      "\n",
      "Model: \"sequential_7\"\n",
      "_________________________________________________________________\n",
      "Layer (type)                 Output Shape              Param #   \n",
      "=================================================================\n",
      "lstm_2 (LSTM)                (None, 28, 10)            1560      \n",
      "_________________________________________________________________\n",
      "lstm_3 (LSTM)                (None, 28, 10)            840       \n",
      "_________________________________________________________________\n",
      "lstm_4 (LSTM)                (None, 10)                840       \n",
      "_________________________________________________________________\n",
      "dense_7 (Dense)              (None, 10)                110       \n",
      "=================================================================\n",
      "Total params: 3,350\n",
      "Trainable params: 3,350\n",
      "Non-trainable params: 0\n",
      "_________________________________________________________________\n",
      "None\n",
      "\n",
      "Model: \"sequential_8\"\n",
      "_________________________________________________________________\n",
      "Layer (type)                 Output Shape              Param #   \n",
      "=================================================================\n",
      "gru_2 (GRU)                  (None, 28, 10)            1200      \n",
      "_________________________________________________________________\n",
      "gru_3 (GRU)                  (None, 28, 10)            660       \n",
      "_________________________________________________________________\n",
      "gru_4 (GRU)                  (None, 10)                660       \n",
      "_________________________________________________________________\n",
      "dense_8 (Dense)              (None, 10)                110       \n",
      "=================================================================\n",
      "Total params: 2,630\n",
      "Trainable params: 2,630\n",
      "Non-trainable params: 0\n",
      "_________________________________________________________________\n",
      "None\n"
     ]
    }
   ],
   "source": [
    "print(RNN_Model.summary())\n",
    "print()\n",
    "print(LSTM_Model.summary())\n",
    "print()\n",
    "print(GRU_Model.summary())"
   ]
  },
  {
   "cell_type": "markdown",
   "metadata": {
    "id": "C-6HOQ54yKHj"
   },
   "source": [
    "---"
   ]
  },
  {
   "cell_type": "code",
   "execution_count": 39,
   "metadata": {
    "colab": {
     "base_uri": "https://localhost:8080/"
    },
    "executionInfo": {
     "elapsed": 849488,
     "status": "ok",
     "timestamp": 1614789226632,
     "user": {
      "displayName": "Guy-Hermann Adiko",
      "photoUrl": "https://lh3.googleusercontent.com/a-/AOh14Gi0Rl7zpprx4ZnwvHMoD4zBxXTFAhkd0FQxuPl_Wg=s64",
      "userId": "13444144507395205469"
     },
     "user_tz": 300
    },
    "id": "_qIRktfVyKHj",
    "outputId": "3f49898a-0530-4a52-9cb9-d86b75cee379",
    "scrolled": true
   },
   "outputs": [
    {
     "name": "stdout",
     "output_type": "stream",
     "text": [
      "Epoch 1/20\n",
      "430/430 [==============================] - 62s 141ms/step - loss: 1.6033 - accuracy: 0.3956 - val_loss: 1.0018 - val_accuracy: 0.6228\n",
      "Epoch 2/20\n",
      "430/430 [==============================] - 55s 128ms/step - loss: 0.9958 - accuracy: 0.6275 - val_loss: 0.8883 - val_accuracy: 0.6726\n",
      "Epoch 3/20\n",
      "430/430 [==============================] - 54s 126ms/step - loss: 0.8729 - accuracy: 0.6866 - val_loss: 0.7608 - val_accuracy: 0.7466\n",
      "Epoch 4/20\n",
      "430/430 [==============================] - 53s 123ms/step - loss: 0.7832 - accuracy: 0.7309 - val_loss: 0.6763 - val_accuracy: 0.7746\n",
      "Epoch 5/20\n",
      "430/430 [==============================] - 61s 142ms/step - loss: 0.7044 - accuracy: 0.7602 - val_loss: 0.6302 - val_accuracy: 0.7916\n",
      "Epoch 6/20\n",
      "430/430 [==============================] - 59s 137ms/step - loss: 0.6554 - accuracy: 0.7822 - val_loss: 0.6015 - val_accuracy: 0.8042\n",
      "Epoch 7/20\n",
      "430/430 [==============================] - 65s 152ms/step - loss: 0.6127 - accuracy: 0.7966 - val_loss: 0.5757 - val_accuracy: 0.8164\n",
      "Epoch 8/20\n",
      "430/430 [==============================] - 63s 146ms/step - loss: 0.5869 - accuracy: 0.8085 - val_loss: 0.5381 - val_accuracy: 0.8310\n",
      "Epoch 9/20\n",
      "430/430 [==============================] - 62s 145ms/step - loss: 0.5387 - accuracy: 0.8316 - val_loss: 0.5070 - val_accuracy: 0.8462\n",
      "Epoch 10/20\n",
      "430/430 [==============================] - 65s 150ms/step - loss: 0.5240 - accuracy: 0.8395 - val_loss: 0.4810 - val_accuracy: 0.8506\n",
      "Epoch 11/20\n",
      "430/430 [==============================] - 62s 144ms/step - loss: 0.4909 - accuracy: 0.8499 - val_loss: 0.4370 - val_accuracy: 0.8712\n",
      "Epoch 12/20\n",
      "430/430 [==============================] - 60s 139ms/step - loss: 0.4523 - accuracy: 0.8622 - val_loss: 0.4176 - val_accuracy: 0.8774\n",
      "Epoch 13/20\n",
      "430/430 [==============================] - 63s 146ms/step - loss: 0.4358 - accuracy: 0.8718 - val_loss: 0.3670 - val_accuracy: 0.8934\n",
      "Epoch 14/20\n",
      "430/430 [==============================] - 101s 235ms/step - loss: 0.3944 - accuracy: 0.8843 - val_loss: 0.3469 - val_accuracy: 0.9040\n",
      "Epoch 15/20\n",
      "430/430 [==============================] - 79s 183ms/step - loss: 0.3779 - accuracy: 0.8919 - val_loss: 0.3484 - val_accuracy: 0.9016\n",
      "Epoch 16/20\n",
      "430/430 [==============================] - 203s 469ms/step - loss: 0.3734 - accuracy: 0.8940 - val_loss: 0.3374 - val_accuracy: 0.9048\n",
      "Epoch 17/20\n",
      "430/430 [==============================] - 170s 391ms/step - loss: 0.3589 - accuracy: 0.8971 - val_loss: 0.3165 - val_accuracy: 0.9132\n",
      "Epoch 18/20\n",
      "430/430 [==============================] - 170s 396ms/step - loss: 0.3465 - accuracy: 0.9012 - val_loss: 0.2964 - val_accuracy: 0.9158\n",
      "Epoch 19/20\n",
      "430/430 [==============================] - 168s 391ms/step - loss: 0.3206 - accuracy: 0.9087 - val_loss: 0.3097 - val_accuracy: 0.9122\n",
      "Epoch 20/20\n",
      "430/430 [==============================] - 110s 255ms/step - loss: 0.3261 - accuracy: 0.9074 - val_loss: 0.3017 - val_accuracy: 0.9186\n",
      "Temps total d'execution = 1784.007072687149 s\n"
     ]
    }
   ],
   "source": [
    "# Training Simple RNN on 20 epochs\n",
    "\n",
    "start = time.time()\n",
    "RNN_Model.compile(loss=\"sparse_categorical_crossentropy\", optimizer=optimizer, metrics=['accuracy'])\n",
    "RNN_history = RNN_Model.fit(X_train, y_train, epochs=20, validation_data=(X_valid, y_valid), batch_size = 128)\n",
    "end = time.time()\n",
    "print(\"Temps total d'execution = \"+str(end-start) +\" \"+ \"s\")"
   ]
  },
  {
   "cell_type": "code",
   "execution_count": 40,
   "metadata": {
    "colab": {
     "base_uri": "https://localhost:8080/",
     "height": 573
    },
    "executionInfo": {
     "elapsed": 804,
     "status": "ok",
     "timestamp": 1614789245403,
     "user": {
      "displayName": "Guy-Hermann Adiko",
      "photoUrl": "https://lh3.googleusercontent.com/a-/AOh14Gi0Rl7zpprx4ZnwvHMoD4zBxXTFAhkd0FQxuPl_Wg=s64",
      "userId": "13444144507395205469"
     },
     "user_tz": 300
    },
    "id": "5qcK6hpRyKHj",
    "outputId": "853e3f11-73ab-4ac3-db1e-9c1519c246f2"
   },
   "outputs": [
    {
     "data": {
      "image/png": "[encoded data removed]",
      "text/plain": [
       "<Figure size 432x288 with 1 Axes>"
      ]
     },
     "metadata": {
      "needs_background": "light"
     },
     "output_type": "display_data"
    },
    {
     "data": {
      "image/png": "[encoded data removed]",
      "text/plain": [
       "<Figure size 432x288 with 1 Axes>"
      ]
     },
     "metadata": {
      "needs_background": "light"
     },
     "output_type": "display_data"
    }
   ],
   "source": [
    "plot_learning_curves(RNN_history.history[\"loss\"], RNN_history.history[\"val_loss\"])\n",
    "plt.show()\n",
    "plot_learning_curves(RNN_history.history[\"accuracy\"], RNN_history.history[\"val_accuracy\"], y_label =\"Accuracy\", Title=\"Accuracy\",\n",
    "                         train_label = \"Simple RNN Train Accuracy\", val_label = \"Simple RNN Validation Accuracy\")"
   ]
  },
  {
   "cell_type": "code",
   "execution_count": 41,
   "metadata": {
    "colab": {
     "base_uri": "https://localhost:8080/"
    },
    "executionInfo": {
     "elapsed": 2522,
     "status": "ok",
     "timestamp": 1614789258172,
     "user": {
      "displayName": "Guy-Hermann Adiko",
      "photoUrl": "https://lh3.googleusercontent.com/a-/AOh14Gi0Rl7zpprx4ZnwvHMoD4zBxXTFAhkd0FQxuPl_Wg=s64",
      "userId": "13444144507395205469"
     },
     "user_tz": 300
    },
    "id": "P0b7zi_TyKHj",
    "outputId": "1c4c6258-e5ef-4b0c-a860-ede5d6d22120"
   },
   "outputs": [
    {
     "name": "stdout",
     "output_type": "stream",
     "text": [
      "313/313 [==============================] - 4s 14ms/step - loss: 0.3228 - accuracy: 0.9100\n",
      "Summary: Loss over the test dataset: 0.32, Accuracy: 0.91\n"
     ]
    }
   ],
   "source": [
    "# Simple RNN Evaluation\n",
    "\n",
    "rnn_evaluation = RNN_Model.evaluate(X_test, y_test)\n",
    "print('Summary: Loss over the test dataset: %.2f, Accuracy: %.2f' % (rnn_evaluation[0], rnn_evaluation[1]))"
   ]
  },
  {
   "cell_type": "code",
   "execution_count": 43,
   "metadata": {
    "colab": {
     "base_uri": "https://localhost:8080/",
     "height": 282
    },
    "executionInfo": {
     "elapsed": 365,
     "status": "ok",
     "timestamp": 1614789266428,
     "user": {
      "displayName": "Guy-Hermann Adiko",
      "photoUrl": "https://lh3.googleusercontent.com/a-/AOh14Gi0Rl7zpprx4ZnwvHMoD4zBxXTFAhkd0FQxuPl_Wg=s64",
      "userId": "13444144507395205469"
     },
     "user_tz": 300
    },
    "id": "kD8y83dQ494N",
    "outputId": "9a19d60b-102b-46c3-9a78-ea9373d3b5fe"
   },
   "outputs": [
    {
     "name": "stdout",
     "output_type": "stream",
     "text": [
      "Predicted result is: [7], target result is: 7\n"
     ]
    },
    {
     "data": {
      "image/png": "[encoded data removed]",
      "text/plain": [
       "<Figure size 432x288 with 1 Axes>"
      ]
     },
     "metadata": {
      "needs_background": "light"
     },
     "output_type": "display_data"
    }
   ],
   "source": [
    "with tf.device(\"GPU:0\"):\n",
    "    \n",
    "    RNN_Model.set_weights(RNN_Model.get_weights())\n",
    "    result = tf.argmax(RNN_Model.predict_on_batch(tf.expand_dims(sample, 0)), axis=1)\n",
    "    print(\n",
    "        \"Predicted result is: %s, target result is: %s\" % (result.numpy(), sample_label)\n",
    "    )\n",
    "    plt.imshow(sample, cmap=\"binary\")"
   ]
  },
  {
   "cell_type": "markdown",
   "metadata": {
    "id": "VbGF-TFiyKHj"
   },
   "source": [
    "---"
   ]
  },
  {
   "cell_type": "code",
   "execution_count": 44,
   "metadata": {
    "colab": {
     "base_uri": "https://localhost:8080/"
    },
    "executionInfo": {
     "elapsed": 128651,
     "status": "ok",
     "timestamp": 1614789401748,
     "user": {
      "displayName": "Guy-Hermann Adiko",
      "photoUrl": "https://lh3.googleusercontent.com/a-/AOh14Gi0Rl7zpprx4ZnwvHMoD4zBxXTFAhkd0FQxuPl_Wg=s64",
      "userId": "13444144507395205469"
     },
     "user_tz": 300
    },
    "id": "gOY_W9QEyKHk",
    "outputId": "f443d823-6101-411d-bb96-8271a6bc685c",
    "scrolled": true
   },
   "outputs": [
    {
     "name": "stdout",
     "output_type": "stream",
     "text": [
      "Epoch 1/20\n",
      "430/430 [==============================] - 9s 13ms/step - loss: 1.3060 - accuracy: 0.5734 - val_loss: 0.4540 - val_accuracy: 0.8746\n",
      "Epoch 2/20\n",
      "430/430 [==============================] - 5s 11ms/step - loss: 0.4393 - accuracy: 0.8756 - val_loss: 0.3254 - val_accuracy: 0.9066\n",
      "Epoch 3/20\n",
      "430/430 [==============================] - 5s 11ms/step - loss: 0.3411 - accuracy: 0.9035 - val_loss: 0.2645 - val_accuracy: 0.9236\n",
      "Epoch 4/20\n",
      "430/430 [==============================] - 4s 10ms/step - loss: 0.2858 - accuracy: 0.9176 - val_loss: 0.2362 - val_accuracy: 0.9328\n",
      "Epoch 5/20\n",
      "430/430 [==============================] - 5s 11ms/step - loss: 0.2489 - accuracy: 0.9299 - val_loss: 0.2090 - val_accuracy: 0.9430\n",
      "Epoch 6/20\n",
      "430/430 [==============================] - 5s 11ms/step - loss: 0.2219 - accuracy: 0.9370 - val_loss: 0.1886 - val_accuracy: 0.9466\n",
      "Epoch 7/20\n",
      "430/430 [==============================] - 5s 11ms/step - loss: 0.2042 - accuracy: 0.9418 - val_loss: 0.1767 - val_accuracy: 0.9494\n",
      "Epoch 8/20\n",
      "430/430 [==============================] - 5s 11ms/step - loss: 0.1905 - accuracy: 0.9460 - val_loss: 0.1631 - val_accuracy: 0.9520\n",
      "Epoch 9/20\n",
      "430/430 [==============================] - 5s 11ms/step - loss: 0.1727 - accuracy: 0.9508 - val_loss: 0.1508 - val_accuracy: 0.9568\n",
      "Epoch 10/20\n",
      "430/430 [==============================] - 5s 11ms/step - loss: 0.1687 - accuracy: 0.9517 - val_loss: 0.1512 - val_accuracy: 0.9552\n",
      "Epoch 11/20\n",
      "430/430 [==============================] - 5s 11ms/step - loss: 0.1591 - accuracy: 0.9544 - val_loss: 0.1345 - val_accuracy: 0.9602\n",
      "Epoch 12/20\n",
      "430/430 [==============================] - 5s 11ms/step - loss: 0.1508 - accuracy: 0.9568 - val_loss: 0.1299 - val_accuracy: 0.9624\n",
      "Epoch 13/20\n",
      "430/430 [==============================] - 5s 11ms/step - loss: 0.1442 - accuracy: 0.9594 - val_loss: 0.1214 - val_accuracy: 0.9668\n",
      "Epoch 14/20\n",
      "430/430 [==============================] - 5s 11ms/step - loss: 0.1404 - accuracy: 0.9593 - val_loss: 0.1218 - val_accuracy: 0.9652\n",
      "Epoch 15/20\n",
      "430/430 [==============================] - 5s 11ms/step - loss: 0.1328 - accuracy: 0.9634 - val_loss: 0.1168 - val_accuracy: 0.9654\n",
      "Epoch 16/20\n",
      "430/430 [==============================] - 5s 11ms/step - loss: 0.1297 - accuracy: 0.9626 - val_loss: 0.1139 - val_accuracy: 0.9660\n",
      "Epoch 17/20\n",
      "430/430 [==============================] - 5s 11ms/step - loss: 0.1274 - accuracy: 0.9645 - val_loss: 0.1122 - val_accuracy: 0.9676\n",
      "Epoch 18/20\n",
      "430/430 [==============================] - 5s 11ms/step - loss: 0.1189 - accuracy: 0.9655 - val_loss: 0.1076 - val_accuracy: 0.9686\n",
      "Epoch 19/20\n",
      "430/430 [==============================] - 5s 11ms/step - loss: 0.1119 - accuracy: 0.9682 - val_loss: 0.1088 - val_accuracy: 0.9670\n",
      "Epoch 20/20\n",
      "430/430 [==============================] - 5s 11ms/step - loss: 0.1149 - accuracy: 0.9678 - val_loss: 0.1029 - val_accuracy: 0.9710\n",
      "Temps total d'execution = 99.29942440986633 s\n"
     ]
    }
   ],
   "source": [
    "# Training LSTM on 20 epochs\n",
    "\n",
    "start = time.time()\n",
    "LSTM_Model.compile(loss=\"sparse_categorical_crossentropy\", optimizer=optimizer, metrics=['accuracy'])\n",
    "LSTM_history = LSTM_Model.fit(X_train, y_train, epochs=20, validation_data=(X_valid, y_valid), batch_size = 128)\n",
    "end = time.time()\n",
    "print(\"Temps total d'execution = \"+str(end-start) +\" \"+ \"s\")"
   ]
  },
  {
   "cell_type": "code",
   "execution_count": 45,
   "metadata": {
    "colab": {
     "base_uri": "https://localhost:8080/",
     "height": 573
    },
    "executionInfo": {
     "elapsed": 657,
     "status": "ok",
     "timestamp": 1614789411451,
     "user": {
      "displayName": "Guy-Hermann Adiko",
      "photoUrl": "https://lh3.googleusercontent.com/a-/AOh14Gi0Rl7zpprx4ZnwvHMoD4zBxXTFAhkd0FQxuPl_Wg=s64",
      "userId": "13444144507395205469"
     },
     "user_tz": 300
    },
    "id": "FsMWMXsMyKHk",
    "outputId": "cebd47dd-d18f-4a16-d41a-4dbd69143bed"
   },
   "outputs": [
    {
     "data": {
      "image/png": "[encoded data removed]",
      "text/plain": [
       "<Figure size 432x288 with 1 Axes>"
      ]
     },
     "metadata": {
      "needs_background": "light"
     },
     "output_type": "display_data"
    },
    {
     "data": {
      "image/png": "[encoded data removed]",
      "text/plain": [
       "<Figure size 432x288 with 1 Axes>"
      ]
     },
     "metadata": {
      "needs_background": "light"
     },
     "output_type": "display_data"
    }
   ],
   "source": [
    "# Plotting Training loss vs Validation loss\n",
    "\n",
    "plot_learning_curves(LSTM_history.history[\"loss\"], LSTM_history.history[\"val_loss\"], train_label = \"LSTM Train loss\", \n",
    "                     val_label = \"LSTM Validation loss\")\n",
    "plt.show()\n",
    "plot_learning_curves(LSTM_history.history[\"accuracy\"], LSTM_history.history[\"val_accuracy\"], y_label =\"Accuracy\", Title=\"Accuracy\",\n",
    "                         train_label = \"LSTM Train Accuracy\", val_label = \"LSTM Validation Accuracy\")"
   ]
  },
  {
   "cell_type": "code",
   "execution_count": 46,
   "metadata": {
    "colab": {
     "base_uri": "https://localhost:8080/"
    },
    "executionInfo": {
     "elapsed": 1536,
     "status": "ok",
     "timestamp": 1614789417765,
     "user": {
      "displayName": "Guy-Hermann Adiko",
      "photoUrl": "https://lh3.googleusercontent.com/a-/AOh14Gi0Rl7zpprx4ZnwvHMoD4zBxXTFAhkd0FQxuPl_Wg=s64",
      "userId": "13444144507395205469"
     },
     "user_tz": 300
    },
    "id": "8O-yaCZWyKHk",
    "outputId": "517df54e-af9e-4a8f-cdbb-547186be44c8"
   },
   "outputs": [
    {
     "name": "stdout",
     "output_type": "stream",
     "text": [
      "313/313 [==============================] - 2s 6ms/step - loss: 0.1127 - accuracy: 0.9688\n",
      "Summary: Loss over the test dataset: 0.11, Accuracy: 0.97\n"
     ]
    }
   ],
   "source": [
    "# LSTM Evaluation\n",
    "\n",
    "lstm_evaluation = LSTM_Model.evaluate(X_test, y_test)\n",
    "print('Summary: Loss over the test dataset: %.2f, Accuracy: %.2f' % (lstm_evaluation[0], lstm_evaluation[1]))"
   ]
  },
  {
   "cell_type": "code",
   "execution_count": 48,
   "metadata": {
    "colab": {
     "base_uri": "https://localhost:8080/",
     "height": 282
    },
    "executionInfo": {
     "elapsed": 349,
     "status": "ok",
     "timestamp": 1614789526628,
     "user": {
      "displayName": "Guy-Hermann Adiko",
      "photoUrl": "https://lh3.googleusercontent.com/a-/AOh14Gi0Rl7zpprx4ZnwvHMoD4zBxXTFAhkd0FQxuPl_Wg=s64",
      "userId": "13444144507395205469"
     },
     "user_tz": 300
    },
    "id": "72C-Zb6J8W5l",
    "outputId": "accb99f1-fd20-497e-a219-c0ddf7517e5d"
   },
   "outputs": [
    {
     "name": "stdout",
     "output_type": "stream",
     "text": [
      "Predicted result is: [7], target result is: 7\n"
     ]
    },
    {
     "data": {
      "image/png": "[encoded data removed]",
      "text/plain": [
       "<Figure size 432x288 with 1 Axes>"
      ]
     },
     "metadata": {
      "needs_background": "light"
     },
     "output_type": "display_data"
    }
   ],
   "source": [
    "with tf.device(\"GPU:0\"):\n",
    "    \n",
    "    LSTM_Model.set_weights(LSTM_Model.get_weights())\n",
    "    result = tf.argmax(LSTM_Model.predict_on_batch(tf.expand_dims(sample, 0)), axis=1)\n",
    "    print(\n",
    "        \"Predicted result is: %s, target result is: %s\" % (result.numpy(), sample_label)\n",
    "    )\n",
    "    plt.imshow(sample, cmap=\"binary\")"
   ]
  },
  {
   "cell_type": "markdown",
   "metadata": {
    "id": "5g7D5EzOyKHk"
   },
   "source": [
    "---"
   ]
  },
  {
   "cell_type": "code",
   "execution_count": 49,
   "metadata": {
    "colab": {
     "base_uri": "https://localhost:8080/"
    },
    "executionInfo": {
     "elapsed": 117440,
     "status": "ok",
     "timestamp": 1614789663975,
     "user": {
      "displayName": "Guy-Hermann Adiko",
      "photoUrl": "https://lh3.googleusercontent.com/a-/AOh14Gi0Rl7zpprx4ZnwvHMoD4zBxXTFAhkd0FQxuPl_Wg=s64",
      "userId": "13444144507395205469"
     },
     "user_tz": 300
    },
    "id": "GjNNujAdyKHk",
    "outputId": "27327795-e365-4e7f-8afc-830710818a78",
    "scrolled": true
   },
   "outputs": [
    {
     "name": "stdout",
     "output_type": "stream",
     "text": [
      "Epoch 1/20\n",
      "430/430 [==============================] - 8s 11ms/step - loss: 1.4858 - accuracy: 0.4753 - val_loss: 0.7263 - val_accuracy: 0.7578\n",
      "Epoch 2/20\n",
      "430/430 [==============================] - 4s 9ms/step - loss: 0.6855 - accuracy: 0.7759 - val_loss: 0.4774 - val_accuracy: 0.8594\n",
      "Epoch 3/20\n",
      "430/430 [==============================] - 4s 10ms/step - loss: 0.4595 - accuracy: 0.8643 - val_loss: 0.3602 - val_accuracy: 0.8966\n",
      "Epoch 4/20\n",
      "430/430 [==============================] - 4s 9ms/step - loss: 0.3555 - accuracy: 0.8989 - val_loss: 0.2845 - val_accuracy: 0.9208\n",
      "Epoch 5/20\n",
      "430/430 [==============================] - 4s 9ms/step - loss: 0.2927 - accuracy: 0.9175 - val_loss: 0.2588 - val_accuracy: 0.9254\n",
      "Epoch 6/20\n",
      "430/430 [==============================] - 4s 9ms/step - loss: 0.2607 - accuracy: 0.9273 - val_loss: 0.2320 - val_accuracy: 0.9350\n",
      "Epoch 7/20\n",
      "430/430 [==============================] - 4s 9ms/step - loss: 0.2287 - accuracy: 0.9354 - val_loss: 0.2131 - val_accuracy: 0.9410\n",
      "Epoch 8/20\n",
      "430/430 [==============================] - 4s 10ms/step - loss: 0.2173 - accuracy: 0.9390 - val_loss: 0.2030 - val_accuracy: 0.9436\n",
      "Epoch 9/20\n",
      "430/430 [==============================] - 4s 9ms/step - loss: 0.1970 - accuracy: 0.9448 - val_loss: 0.2017 - val_accuracy: 0.9456\n",
      "Epoch 10/20\n",
      "430/430 [==============================] - 4s 10ms/step - loss: 0.1952 - accuracy: 0.9440 - val_loss: 0.1859 - val_accuracy: 0.9456\n",
      "Epoch 11/20\n",
      "430/430 [==============================] - 4s 10ms/step - loss: 0.1814 - accuracy: 0.9494 - val_loss: 0.1751 - val_accuracy: 0.9498\n",
      "Epoch 12/20\n",
      "430/430 [==============================] - 4s 10ms/step - loss: 0.1762 - accuracy: 0.9490 - val_loss: 0.1647 - val_accuracy: 0.9564\n",
      "Epoch 13/20\n",
      "430/430 [==============================] - 4s 10ms/step - loss: 0.1677 - accuracy: 0.9528 - val_loss: 0.1547 - val_accuracy: 0.9568\n",
      "Epoch 14/20\n",
      "430/430 [==============================] - 4s 10ms/step - loss: 0.1593 - accuracy: 0.9530 - val_loss: 0.1624 - val_accuracy: 0.9534\n",
      "Epoch 15/20\n",
      "430/430 [==============================] - 4s 10ms/step - loss: 0.1499 - accuracy: 0.9567 - val_loss: 0.1427 - val_accuracy: 0.9606\n",
      "Epoch 16/20\n",
      "430/430 [==============================] - 4s 9ms/step - loss: 0.1462 - accuracy: 0.9588 - val_loss: 0.1415 - val_accuracy: 0.9602\n",
      "Epoch 17/20\n",
      "430/430 [==============================] - 4s 10ms/step - loss: 0.1419 - accuracy: 0.9604 - val_loss: 0.1378 - val_accuracy: 0.9618\n",
      "Epoch 18/20\n",
      "430/430 [==============================] - 4s 10ms/step - loss: 0.1319 - accuracy: 0.9620 - val_loss: 0.1325 - val_accuracy: 0.9642\n",
      "Epoch 19/20\n",
      "430/430 [==============================] - 4s 10ms/step - loss: 0.1247 - accuracy: 0.9638 - val_loss: 0.1305 - val_accuracy: 0.9642\n",
      "Epoch 20/20\n",
      "430/430 [==============================] - 4s 10ms/step - loss: 0.1272 - accuracy: 0.9642 - val_loss: 0.1226 - val_accuracy: 0.9644\n",
      "Temps total d'execution = 86.854252576828 s\n"
     ]
    }
   ],
   "source": [
    "# Training GRU on 20 epochs\n",
    "\n",
    "start = time.time()\n",
    "GRU_Model.compile(loss=\"sparse_categorical_crossentropy\", optimizer=optimizer, metrics=['accuracy'])\n",
    "GRU_history = GRU_Model.fit(X_train, y_train, epochs=20, validation_data=(X_valid, y_valid), batch_size = 128)\n",
    "end = time.time()\n",
    "print(\"Temps total d'execution = \"+str(end-start) +\" \"+ \"s\")"
   ]
  },
  {
   "cell_type": "code",
   "execution_count": 50,
   "metadata": {
    "colab": {
     "base_uri": "https://localhost:8080/",
     "height": 573
    },
    "executionInfo": {
     "elapsed": 605,
     "status": "ok",
     "timestamp": 1614789673925,
     "user": {
      "displayName": "Guy-Hermann Adiko",
      "photoUrl": "https://lh3.googleusercontent.com/a-/AOh14Gi0Rl7zpprx4ZnwvHMoD4zBxXTFAhkd0FQxuPl_Wg=s64",
      "userId": "13444144507395205469"
     },
     "user_tz": 300
    },
    "id": "-UAKe3SByKHl",
    "outputId": "8fdc81ef-6c9e-4042-ceb8-134de59bd1d2"
   },
   "outputs": [
    {
     "data": {
      "image/png": "[encoded data removed]",
      "text/plain": [
       "<Figure size 432x288 with 1 Axes>"
      ]
     },
     "metadata": {
      "needs_background": "light"
     },
     "output_type": "display_data"
    },
    {
     "data": {
      "image/png": "[encoded data removed]",
      "text/plain": [
       "<Figure size 432x288 with 1 Axes>"
      ]
     },
     "metadata": {
      "needs_background": "light"
     },
     "output_type": "display_data"
    }
   ],
   "source": [
    "# Plotting Training loss vs Validation loss\n",
    "\n",
    "plot_learning_curves(GRU_history.history[\"loss\"], GRU_history.history[\"val_loss\"], train_label = \"GRU Train loss\", \n",
    "                     val_label = \"GRU Validation loss\")\n",
    "plt.show()\n",
    "plot_learning_curves(GRU_history.history[\"accuracy\"], GRU_history.history[\"val_accuracy\"], y_label =\"Accuracy\", Title=\"Accuracy\",\n",
    "                         train_label = \"GRU Train Accuracy\", val_label = \"GRU Validation Accuracy\")"
   ]
  },
  {
   "cell_type": "code",
   "execution_count": 51,
   "metadata": {
    "colab": {
     "base_uri": "https://localhost:8080/"
    },
    "executionInfo": {
     "elapsed": 1443,
     "status": "ok",
     "timestamp": 1614789682083,
     "user": {
      "displayName": "Guy-Hermann Adiko",
      "photoUrl": "https://lh3.googleusercontent.com/a-/AOh14Gi0Rl7zpprx4ZnwvHMoD4zBxXTFAhkd0FQxuPl_Wg=s64",
      "userId": "13444144507395205469"
     },
     "user_tz": 300
    },
    "id": "1Vnlve_oyKHl",
    "outputId": "025acec9-fd49-4b0a-f326-544832985e79"
   },
   "outputs": [
    {
     "name": "stdout",
     "output_type": "stream",
     "text": [
      "313/313 [==============================] - 2s 5ms/step - loss: 0.1230 - accuracy: 0.9649\n",
      "Summary: Loss over the test dataset: 0.12, Accuracy: 0.96\n"
     ]
    }
   ],
   "source": [
    "# GRU Evaluation\n",
    "\n",
    "gru_evaluation = GRU_Model.evaluate(X_test, y_test)\n",
    "print('Summary: Loss over the test dataset: %.2f, Accuracy: %.2f' % (gru_evaluation[0], gru_evaluation[1]))"
   ]
  },
  {
   "cell_type": "code",
   "execution_count": 53,
   "metadata": {
    "colab": {
     "base_uri": "https://localhost:8080/",
     "height": 282
    },
    "executionInfo": {
     "elapsed": 370,
     "status": "ok",
     "timestamp": 1614789688914,
     "user": {
      "displayName": "Guy-Hermann Adiko",
      "photoUrl": "https://lh3.googleusercontent.com/a-/AOh14Gi0Rl7zpprx4ZnwvHMoD4zBxXTFAhkd0FQxuPl_Wg=s64",
      "userId": "13444144507395205469"
     },
     "user_tz": 300
    },
    "id": "N4fT8aFpyKHl",
    "outputId": "ad7f7901-0724-4389-d05b-6f4039992682"
   },
   "outputs": [
    {
     "name": "stdout",
     "output_type": "stream",
     "text": [
      "Predicted result is: [7], target result is: 7\n"
     ]
    },
    {
     "data": {
      "image/png": "[encoded data removed]",
      "text/plain": [
       "<Figure size 432x288 with 1 Axes>"
      ]
     },
     "metadata": {
      "needs_background": "light"
     },
     "output_type": "display_data"
    }
   ],
   "source": [
    "with tf.device(\"GPU:0\"):\n",
    "    \n",
    "    GRU_Model.set_weights(GRU_Model.get_weights())\n",
    "    result = tf.argmax(GRU_Model.predict_on_batch(tf.expand_dims(sample, 0)), axis=1)\n",
    "    print(\n",
    "        \"Predicted result is: %s, target result is: %s\" % (result.numpy(), sample_label)\n",
    "    )\n",
    "    plt.imshow(sample, cmap=\"binary\")"
   ]
  },
  {
   "cell_type": "markdown",
   "metadata": {
    "id": "7ePnMzU_yKHl"
   },
   "source": [
    "#### Recap: Pour la 3eme experience, le meilleur modele est celui de LSTM avec 97% d'accuracy. GRU avec 96% et Simple RNN enregistre toujours la pire des performances (91%)."
   ]
  },
  {
   "cell_type": "markdown",
   "metadata": {
    "id": "cThGqOaoyKHl"
   },
   "source": [
    "# Implementing vision Transformer from scratch"
   ]
  },
  {
   "cell_type": "code",
   "execution_count": 54,
   "metadata": {},
   "outputs": [],
   "source": [
    "# reshaping the data to (batch size, height, width, number of channel)\n",
    "\n",
    "x_train = X_train.reshape((X_train.shape[0], 28, 28, 1))\n",
    "x_valid = X_valid.reshape((X_valid.shape[0], 28, 28, 1))\n",
    "x_test = X_test.reshape((X_test.shape[0], 28, 28, 1))"
   ]
  },
  {
   "cell_type": "code",
   "execution_count": 63,
   "metadata": {},
   "outputs": [],
   "source": [
    "patch_size = 4  # Size of the patches to be extract from the input images\n",
    "num_patches = (28 // patch_size) ** 2\n",
    "projection_dim = 32\n",
    "transformer_units = [projection_dim * 2, projection_dim, ]  # Size of the transformer layers\n",
    "transformer_layers = 1\n",
    "mlp_head_units = [100, 50]  # Size of the dense layers of the final classifier"
   ]
  },
  {
   "cell_type": "code",
   "execution_count": 64,
   "metadata": {},
   "outputs": [],
   "source": [
    "def mlp(x, hidden_units):\n",
    "    \n",
    "    for units in hidden_units:\n",
    "        x = keras.layers.Dense(units, activation=\"relu\")(x)\n",
    "        \n",
    "    return x"
   ]
  },
  {
   "cell_type": "code",
   "execution_count": 65,
   "metadata": {},
   "outputs": [],
   "source": [
    "class Patches(keras.layers.Layer):\n",
    "    \n",
    "    def __init__(self, patch_size):\n",
    "        super(Patches, self).__init__()\n",
    "        self.patch_size = patch_size\n",
    "\n",
    "    def call(self, images):\n",
    "        batch_size = tf.shape(images)[0]\n",
    "        patches = tf.image.extract_patches(\n",
    "            images=images,\n",
    "            sizes=[1, self.patch_size, self.patch_size, 1],\n",
    "            strides=[1, self.patch_size, self.patch_size, 1],\n",
    "            rates=[1, 1, 1, 1],\n",
    "            padding=\"VALID\",\n",
    "        )\n",
    "        patch_dims = patches.shape[-1]\n",
    "        patches = tf.reshape(patches, [batch_size, -1, patch_dims])\n",
    "        \n",
    "        return patches"
   ]
  },
  {
   "cell_type": "code",
   "execution_count": 66,
   "metadata": {},
   "outputs": [],
   "source": [
    "class PatchEncoder(keras.layers.Layer):\n",
    "    \n",
    "    def __init__(self, num_patches, projection_dim):\n",
    "        super(PatchEncoder, self).__init__()\n",
    "        self.num_patches = num_patches\n",
    "        self.projection = keras.layers.Dense(units=projection_dim)\n",
    "        self.position_embedding = keras.layers.Embedding(\n",
    "            input_dim=num_patches, output_dim=projection_dim\n",
    "        )\n",
    "\n",
    "    def call(self, patch):\n",
    "        positions = tf.range(start=0, limit=self.num_patches, delta=1)\n",
    "        encoded = self.projection(patch) + self.position_embedding(positions)\n",
    "        \n",
    "        return encoded"
   ]
  },
  {
   "cell_type": "code",
   "execution_count": 67,
   "metadata": {},
   "outputs": [],
   "source": [
    "def transformer_block():\n",
    "    \n",
    "    inputs = keras.layers.Input(shape=(28, 28, 1))\n",
    "    # Create patches.\n",
    "    patches = Patches(patch_size)(inputs)\n",
    "    # Encode patches.\n",
    "    encoded_patches = PatchEncoder(num_patches, projection_dim)(patches)\n",
    "\n",
    "    # Create multiple layers of the Transformer block.\n",
    "    for _ in range(transformer_layers):\n",
    "        # Layer normalization 1.\n",
    "        x1 = keras.layers.LayerNormalization(epsilon=1e-6)(encoded_patches)\n",
    "        # Create a multi-head attention layer.\n",
    "        attention_output = keras.layers.MultiHeadAttention(\n",
    "            num_heads=4, key_dim=projection_dim)(x1, x1)\n",
    "        # Skip connection 1.\n",
    "        x2 = keras.layers.Add()([attention_output, encoded_patches])\n",
    "        # Layer normalization 2.\n",
    "        x3 = keras.layers.LayerNormalization(epsilon=1e-6)(x2)\n",
    "        # MLP.\n",
    "        x3 = mlp(x3, hidden_units=transformer_units)\n",
    "        # Skip connection 2.\n",
    "        encoded_patches = keras.layers.Add()([x3, x2])\n",
    "\n",
    "    # Create a [batch_size, projection_dim] tensor.\n",
    "    representation = keras.layers.LayerNormalization(epsilon=1e-6)(encoded_patches)\n",
    "    representation = keras.layers.Flatten()(representation)\n",
    "    # Add MLP.\n",
    "    features = mlp(representation, hidden_units=mlp_head_units)\n",
    "    # Classify outputs.\n",
    "    outputs = keras.layers.Dense(10, activation=\"softmax\")(features)\n",
    "    # Create the Keras model.\n",
    "    model = keras.Model(inputs=inputs, outputs=outputs)\n",
    "    \n",
    "    return model"
   ]
  },
  {
   "cell_type": "code",
   "execution_count": 68,
   "metadata": {},
   "outputs": [],
   "source": [
    "np.random.seed(37)\n",
    "tf.random.set_seed(37)\n",
    "Transf_Model = transformer_block()"
   ]
  },
  {
   "cell_type": "code",
   "execution_count": 69,
   "metadata": {},
   "outputs": [
    {
     "name": "stdout",
     "output_type": "stream",
     "text": [
      "Model: \"model_1\"\n",
      "__________________________________________________________________________________________________\n",
      "Layer (type)                    Output Shape         Param #     Connected to                     \n",
      "==================================================================================================\n",
      "input_2 (InputLayer)            [(None, 28, 28, 1)]  0                                            \n",
      "__________________________________________________________________________________________________\n",
      "patches_1 (Patches)             (None, None, 16)     0           input_2[0][0]                    \n",
      "__________________________________________________________________________________________________\n",
      "patch_encoder_1 (PatchEncoder)  (None, 49, 32)       2112        patches_1[0][0]                  \n",
      "__________________________________________________________________________________________________\n",
      "layer_normalization_3 (LayerNor (None, 49, 32)       64          patch_encoder_1[0][0]            \n",
      "__________________________________________________________________________________________________\n",
      "multi_head_attention_1 (MultiHe (None, 49, 32)       16800       layer_normalization_3[0][0]      \n",
      "                                                                 layer_normalization_3[0][0]      \n",
      "__________________________________________________________________________________________________\n",
      "add_2 (Add)                     (None, 49, 32)       0           multi_head_attention_1[0][0]     \n",
      "                                                                 patch_encoder_1[0][0]            \n",
      "__________________________________________________________________________________________________\n",
      "layer_normalization_4 (LayerNor (None, 49, 32)       64          add_2[0][0]                      \n",
      "__________________________________________________________________________________________________\n",
      "dense_16 (Dense)                (None, 49, 64)       2112        layer_normalization_4[0][0]      \n",
      "__________________________________________________________________________________________________\n",
      "dense_17 (Dense)                (None, 49, 32)       2080        dense_16[0][0]                   \n",
      "__________________________________________________________________________________________________\n",
      "add_3 (Add)                     (None, 49, 32)       0           dense_17[0][0]                   \n",
      "                                                                 add_2[0][0]                      \n",
      "__________________________________________________________________________________________________\n",
      "layer_normalization_5 (LayerNor (None, 49, 32)       64          add_3[0][0]                      \n",
      "__________________________________________________________________________________________________\n",
      "flatten_1 (Flatten)             (None, 1568)         0           layer_normalization_5[0][0]      \n",
      "__________________________________________________________________________________________________\n",
      "dense_18 (Dense)                (None, 100)          156900      flatten_1[0][0]                  \n",
      "__________________________________________________________________________________________________\n",
      "dense_19 (Dense)                (None, 50)           5050        dense_18[0][0]                   \n",
      "__________________________________________________________________________________________________\n",
      "dense_20 (Dense)                (None, 10)           510         dense_19[0][0]                   \n",
      "==================================================================================================\n",
      "Total params: 185,756\n",
      "Trainable params: 185,756\n",
      "Non-trainable params: 0\n",
      "__________________________________________________________________________________________________\n"
     ]
    }
   ],
   "source": [
    "Transf_Model.summary()"
   ]
  },
  {
   "cell_type": "code",
   "execution_count": 70,
   "metadata": {
    "scrolled": true
   },
   "outputs": [
    {
     "name": "stdout",
     "output_type": "stream",
     "text": [
      "Epoch 1/10\n",
      "430/430 [==============================] - 7s 13ms/step - loss: 0.7687 - accuracy: 0.7550 - val_loss: 0.1361 - val_accuracy: 0.9612\n",
      "Epoch 2/10\n",
      "430/430 [==============================] - 5s 12ms/step - loss: 0.1250 - accuracy: 0.9616 - val_loss: 0.0999 - val_accuracy: 0.9726\n",
      "Epoch 3/10\n",
      "430/430 [==============================] - 5s 12ms/step - loss: 0.0821 - accuracy: 0.9751 - val_loss: 0.0895 - val_accuracy: 0.9744\n",
      "Epoch 4/10\n",
      "430/430 [==============================] - 5s 12ms/step - loss: 0.0652 - accuracy: 0.9794 - val_loss: 0.0793 - val_accuracy: 0.9774\n",
      "Epoch 5/10\n",
      "430/430 [==============================] - 5s 12ms/step - loss: 0.0475 - accuracy: 0.9851 - val_loss: 0.0746 - val_accuracy: 0.9802\n",
      "Epoch 6/10\n",
      "430/430 [==============================] - 5s 12ms/step - loss: 0.0388 - accuracy: 0.9879 - val_loss: 0.0733 - val_accuracy: 0.9792\n",
      "Epoch 7/10\n",
      "430/430 [==============================] - 5s 12ms/step - loss: 0.0307 - accuracy: 0.9909 - val_loss: 0.0743 - val_accuracy: 0.9796\n",
      "Epoch 8/10\n",
      "430/430 [==============================] - 5s 13ms/step - loss: 0.0285 - accuracy: 0.9907 - val_loss: 0.0626 - val_accuracy: 0.9832\n",
      "Epoch 9/10\n",
      "430/430 [==============================] - 5s 13ms/step - loss: 0.0204 - accuracy: 0.9934 - val_loss: 0.0736 - val_accuracy: 0.9794\n",
      "Epoch 10/10\n",
      "430/430 [==============================] - 6s 13ms/step - loss: 0.0185 - accuracy: 0.9942 - val_loss: 0.0680 - val_accuracy: 0.9816\n",
      "Temps total d'execution = 55.18941926956177 s\n"
     ]
    }
   ],
   "source": [
    "start = time.time()\n",
    "Transf_Model.compile(loss=\"sparse_categorical_crossentropy\", metrics=['accuracy'], optimizer=optimizer)\n",
    "Transf_history = Transf_Model.fit(x_train, y_train, epochs=10, validation_data=(x_valid, y_valid), batch_size = 128)\n",
    "end = time.time()\n",
    "print(\"Temps total d'execution = \"+str(end-start) +\" \"+ \"s\")"
   ]
  },
  {
   "cell_type": "code",
   "execution_count": 71,
   "metadata": {},
   "outputs": [
    {
     "data": {
      "image/png": "[encoded data removed]",
      "text/plain": [
       "<Figure size 432x288 with 1 Axes>"
      ]
     },
     "metadata": {
      "needs_background": "light"
     },
     "output_type": "display_data"
    },
    {
     "data": {
      "image/png": "[encoded data removed]",
      "text/plain": [
       "<Figure size 432x288 with 1 Axes>"
      ]
     },
     "metadata": {
      "needs_background": "light"
     },
     "output_type": "display_data"
    }
   ],
   "source": [
    "# Plotting Training loss vs Validation loss\n",
    "\n",
    "plot_learning_curves(Transf_history.history[\"loss\"], Transf_history.history[\"val_loss\"], train_label = \"Train loss\", \n",
    "                     val_label = \"Validation loss\")\n",
    "plt.show()\n",
    "plot_learning_curves(Transf_history.history[\"accuracy\"], Transf_history.history[\"val_accuracy\"], y_label =\"Accuracy\", Title=\"Accuracy\",\n",
    "                         train_label = \"Train Accuracy\", val_label = \"Validation Accuracy\")"
   ]
  },
  {
   "cell_type": "code",
   "execution_count": 72,
   "metadata": {},
   "outputs": [
    {
     "name": "stdout",
     "output_type": "stream",
     "text": [
      "313/313 [==============================] - 2s 5ms/step - loss: 0.0606 - accuracy: 0.9818\n",
      "Summary: Loss over the test dataset: 0.06, Accuracy: 0.98\n"
     ]
    }
   ],
   "source": [
    "# Transformer Evaluation\n",
    "\n",
    "transf_evaluation = Transf_Model.evaluate(x_test, y_test)\n",
    "print('Summary: Loss over the test dataset: %.2f, Accuracy: %.2f' % (transf_evaluation[0], transf_evaluation[1]))"
   ]
  },
  {
   "cell_type": "code",
   "execution_count": 74,
   "metadata": {},
   "outputs": [
    {
     "name": "stdout",
     "output_type": "stream",
     "text": [
      "Predicted result is: [7], target result is: 7\n"
     ]
    },
    {
     "data": {
      "image/png": "[encoded data removed]",
      "text/plain": [
       "<Figure size 432x288 with 1 Axes>"
      ]
     },
     "metadata": {
      "needs_background": "light"
     },
     "output_type": "display_data"
    }
   ],
   "source": [
    "with tf.device(\"GPU:0\"):\n",
    "    \n",
    "    Transf_Model.set_weights(Transf_Model.get_weights())\n",
    "    result = tf.argmax(Transf_Model.predict_on_batch(tf.expand_dims(sample, 0)), axis=1)\n",
    "    print(\n",
    "        \"Predicted result is: %s, target result is: %s\" % (result.numpy(), sample_label)\n",
    "    )\n",
    "    plt.imshow(sample, cmap=\"binary\")"
   ]
  },
  {
   "cell_type": "markdown",
   "metadata": {},
   "source": [
    "# Recap"
   ]
  },
  {
   "cell_type": "code",
   "execution_count": 75,
   "metadata": {},
   "outputs": [
    {
     "data": {
      "text/html": [
       "<div>\n",
       "<style scoped>\n",
       "    .dataframe tbody tr th:only-of-type {\n",
       "        vertical-align: middle;\n",
       "    }\n",
       "\n",
       "    .dataframe tbody tr th {\n",
       "        vertical-align: top;\n",
       "    }\n",
       "\n",
       "    .dataframe thead th {\n",
       "        text-align: right;\n",
       "    }\n",
       "</style>\n",
       "<table border=\"1\" class=\"dataframe\">\n",
       "  <thead>\n",
       "    <tr style=\"text-align: right;\">\n",
       "      <th></th>\n",
       "      <th>Model</th>\n",
       "      <th>Final validation accuracy</th>\n",
       "      <th>Test accuracy</th>\n",
       "      <th>Number of epochs</th>\n",
       "      <th>Time for training</th>\n",
       "      <th>Time for inference</th>\n",
       "      <th>Total number of parameters</th>\n",
       "      <th>Batch size</th>\n",
       "      <th>Optimizer</th>\n",
       "      <th>Learning rate</th>\n",
       "    </tr>\n",
       "  </thead>\n",
       "  <tbody>\n",
       "    <tr>\n",
       "      <th>0</th>\n",
       "      <td>RNN Experience 1</td>\n",
       "      <td>0.7738</td>\n",
       "      <td>0.77</td>\n",
       "      <td>20</td>\n",
       "      <td>~456 s</td>\n",
       "      <td>2 s</td>\n",
       "      <td>500</td>\n",
       "      <td>128</td>\n",
       "      <td>Adam</td>\n",
       "      <td>0.001</td>\n",
       "    </tr>\n",
       "    <tr>\n",
       "      <th>1</th>\n",
       "      <td>LSTM Experience 1</td>\n",
       "      <td>0.9470</td>\n",
       "      <td>0.94</td>\n",
       "      <td>20</td>\n",
       "      <td>~86 s</td>\n",
       "      <td>1 s</td>\n",
       "      <td>1670</td>\n",
       "      <td>128</td>\n",
       "      <td>Adam</td>\n",
       "      <td>0.001</td>\n",
       "    </tr>\n",
       "    <tr>\n",
       "      <th>2</th>\n",
       "      <td>GRU Experience 1</td>\n",
       "      <td>0.9214</td>\n",
       "      <td>0.92</td>\n",
       "      <td>20</td>\n",
       "      <td>~82 s</td>\n",
       "      <td>2 s</td>\n",
       "      <td>1310</td>\n",
       "      <td>128</td>\n",
       "      <td>Adam</td>\n",
       "      <td>0.001</td>\n",
       "    </tr>\n",
       "    <tr>\n",
       "      <th>3</th>\n",
       "      <td>RNN Experience 2</td>\n",
       "      <td>0.9050</td>\n",
       "      <td>0.90</td>\n",
       "      <td>20</td>\n",
       "      <td>~442 s</td>\n",
       "      <td>3 s</td>\n",
       "      <td>1190</td>\n",
       "      <td>128</td>\n",
       "      <td>Adam</td>\n",
       "      <td>0.001</td>\n",
       "    </tr>\n",
       "    <tr>\n",
       "      <th>4</th>\n",
       "      <td>LSTM Experience 2</td>\n",
       "      <td>0.9742</td>\n",
       "      <td>0.97</td>\n",
       "      <td>20</td>\n",
       "      <td>82 s</td>\n",
       "      <td>2 s</td>\n",
       "      <td>4130</td>\n",
       "      <td>128</td>\n",
       "      <td>Adam</td>\n",
       "      <td>0.001</td>\n",
       "    </tr>\n",
       "    <tr>\n",
       "      <th>5</th>\n",
       "      <td>GRU Experience 2</td>\n",
       "      <td>0.9652</td>\n",
       "      <td>0.97</td>\n",
       "      <td>20</td>\n",
       "      <td>~79 s</td>\n",
       "      <td>2 s</td>\n",
       "      <td>3210</td>\n",
       "      <td>128</td>\n",
       "      <td>Adam</td>\n",
       "      <td>0.001</td>\n",
       "    </tr>\n",
       "    <tr>\n",
       "      <th>6</th>\n",
       "      <td>RNN Experience 3</td>\n",
       "      <td>0.9186</td>\n",
       "      <td>0.91</td>\n",
       "      <td>20</td>\n",
       "      <td>1784 s</td>\n",
       "      <td>4 s</td>\n",
       "      <td>920</td>\n",
       "      <td>128</td>\n",
       "      <td>Adam</td>\n",
       "      <td>0.001</td>\n",
       "    </tr>\n",
       "    <tr>\n",
       "      <th>7</th>\n",
       "      <td>LSTM Experience 3</td>\n",
       "      <td>0.9716</td>\n",
       "      <td>0.97</td>\n",
       "      <td>20</td>\n",
       "      <td>99 s</td>\n",
       "      <td>2 s</td>\n",
       "      <td>3350</td>\n",
       "      <td>128</td>\n",
       "      <td>Adam</td>\n",
       "      <td>0.001</td>\n",
       "    </tr>\n",
       "    <tr>\n",
       "      <th>8</th>\n",
       "      <td>GRU Experience 3</td>\n",
       "      <td>0.9644</td>\n",
       "      <td>0.96</td>\n",
       "      <td>20</td>\n",
       "      <td>~87 s</td>\n",
       "      <td>2 s</td>\n",
       "      <td>2630</td>\n",
       "      <td>128</td>\n",
       "      <td>Adam</td>\n",
       "      <td>0.001</td>\n",
       "    </tr>\n",
       "    <tr>\n",
       "      <th>9</th>\n",
       "      <td>Transformer</td>\n",
       "      <td>0.9816</td>\n",
       "      <td>0.98</td>\n",
       "      <td>10</td>\n",
       "      <td>55 s</td>\n",
       "      <td>2 s</td>\n",
       "      <td>185756</td>\n",
       "      <td>128</td>\n",
       "      <td>Adam</td>\n",
       "      <td>0.001</td>\n",
       "    </tr>\n",
       "  </tbody>\n",
       "</table>\n",
       "</div>"
      ],
      "text/plain": [
       "               Model  Final validation accuracy  Test accuracy  \\\n",
       "0   RNN Experience 1                     0.7738           0.77   \n",
       "1  LSTM Experience 1                     0.9470           0.94   \n",
       "2   GRU Experience 1                     0.9214           0.92   \n",
       "3   RNN Experience 2                     0.9050           0.90   \n",
       "4  LSTM Experience 2                     0.9742           0.97   \n",
       "5   GRU Experience 2                     0.9652           0.97   \n",
       "6   RNN Experience 3                     0.9186           0.91   \n",
       "7  LSTM Experience 3                     0.9716           0.97   \n",
       "8   GRU Experience 3                     0.9644           0.96   \n",
       "9        Transformer                     0.9816           0.98   \n",
       "\n",
       "   Number of epochs Time for training Time for inference  \\\n",
       "0                20            ~456 s                2 s   \n",
       "1                20             ~86 s                1 s   \n",
       "2                20             ~82 s                2 s   \n",
       "3                20            ~442 s                3 s   \n",
       "4                20              82 s                2 s   \n",
       "5                20             ~79 s                2 s   \n",
       "6                20            1784 s                4 s   \n",
       "7                20              99 s                2 s   \n",
       "8                20             ~87 s                2 s   \n",
       "9                10              55 s                2 s   \n",
       "\n",
       "   Total number of parameters  Batch size Optimizer  Learning rate  \n",
       "0                         500         128      Adam          0.001  \n",
       "1                        1670         128      Adam          0.001  \n",
       "2                        1310         128      Adam          0.001  \n",
       "3                        1190         128      Adam          0.001  \n",
       "4                        4130         128      Adam          0.001  \n",
       "5                        3210         128      Adam          0.001  \n",
       "6                         920         128      Adam          0.001  \n",
       "7                        3350         128      Adam          0.001  \n",
       "8                        2630         128      Adam          0.001  \n",
       "9                      185756         128      Adam          0.001  "
      ]
     },
     "execution_count": 75,
     "metadata": {},
     "output_type": "execute_result"
    }
   ],
   "source": [
    "pd.read_excel(\"Recap.xlsx\")"
   ]
  },
  {
   "cell_type": "markdown",
   "metadata": {},
   "source": [
    "##### Comment:"
   ]
  },
  {
   "cell_type": "markdown",
   "metadata": {},
   "source": [
    "- Au vu de ces differentes experiences, nous pouvons noter que le Simple RNN enregistre la mauvaise performance et le plus grand temps d'entrainement peu importe l'experience.\n",
    "- Le modele avec Transformer enregistre la meilleure performance et ce avec a peine 10 epochs contrairement aux autres modeles. Aussi, nous faisons remarquer que nous n'avons pas eu besoin de faire plusieurs experiences avec Transformer, car avec a peine un block nous atteignons deja plus de 90% juste apres 2 epochs. Transformer enregistre le temps d'entrainement le plus court (55s) malgre ces 185 756 parametres, ce qui represente le nombre de parametre le plus eleve par rapport aux autres modeles.\n",
    "- Enfin, le LSTM donne de tres bons resultats compare a GRU et ce peu importe l'experience"
   ]
  },
  {
   "cell_type": "markdown",
   "metadata": {},
   "source": [
    "---"
   ]
  }
 ],
 "metadata": {
  "accelerator": "GPU",
  "colab": {
   "collapsed_sections": [
    "Nrz3HHs0yKHd",
    "Mog1_sI4yKHi",
    "7ePnMzU_yKHl"
   ],
   "name": "INF8225_TP3_H21.ipynb",
   "provenance": [],
   "toc_visible": true
  },
  "kernelspec": {
   "display_name": "Python 3",
   "language": "python",
   "name": "python3"
  },
  "language_info": {
   "codemirror_mode": {
    "name": "ipython",
    "version": 3
   },
   "file_extension": ".py",
   "mimetype": "text/x-python",
   "name": "python",
   "nbconvert_exporter": "python",
   "pygments_lexer": "ipython3",
   "version": "3.8.8"
  }
 },
 "nbformat": 4,
 "nbformat_minor": 1
}
